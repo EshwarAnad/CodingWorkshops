{
 "cells": [
  {
   "cell_type": "markdown",
   "metadata": {},
   "source": [
    "# Data Analysis and visualization for tracking developer productivity\n",
    "\n",
    "Chipy's mentorship program is an extra-ordinary jounery for becoming a better developer. As a mentee, you are expected to do a lot - you read new articles/books, write code, debug and troubleshoot, pair program with other mentees in coding workshop or your mentor. This is involves managing time efficiently and doing the effective things. But as the old adage goes, \"you can't manage what you can't measure\".\n",
    "\n",
    "This project is the third of the three part series of building tools for the mentees for tracking time. The end goal of such a tool will be to aggregate anonymous data and analyze how does a typical mentee spend on blogging (b), coding (c), debugging (d), pair program (p) with mentor or other mentees.\n",
    "\n",
    "In this project we will be using `pandas` to analyze the data gathered by using the command line tool we built in the first part of the series. We will also be using `altair`, a visualization library to do some exploratory analysis of the data.\n",
    "\n",
    "Short url for this page: http://bit.ly/"
   ]
  },
  {
   "cell_type": "markdown",
   "metadata": {},
   "source": [
    "##  Is this project for you\n",
    "\n",
    "Before you progress further, let's check if we are ready to solve this. You should\n",
    "\n",
    "- Have a personal computer with working wifi and power cord\n",
    "- Have Python 3 installed on your computer. *Yes, **Python 3** only* 😎\n",
    "- Have some idea about lists, dictionaries and functions\n",
    "- Have created a virtual environment and installing packages with `pip`\n",
    "\n",
    "In addition, you should be familiar with [Part 1](https://github.com/chicagopython/CodingWorkshops/tree/master/problems/py101/trackcoder), and [Part 2](https://bit.ly/flask_trackcoder) of this three part exercise."
   ]
  },
  {
   "cell_type": "markdown",
   "metadata": {},
   "source": [
    "## Getting the project setup in your computer\n",
    "If you are familiar with git, run\n",
    "\n",
    "\n",
    "```\n",
    "git clone https://github.com/chicagopython/CodingWorkshops.git\n",
    "```\n",
    "\n",
    "If not, go to https://github.com/chicagopython/CodingWorkshops\n",
    "\n",
    "Click on the Download Zip and unzip the file that gets downloaded.\n",
    "\n",
    "From your command line (terminal in mac osx, or linux and command prompt in windows), change directory to the path where you have downloaded it.\n",
    "\n",
    "\n",
    "    On linux or OS X\n",
    "\n",
    "      > cd path/to/CodingWorkshops/problems/data_science/\n",
    "\n",
    "    On Windows\n",
    "\n",
    "      > cd path\\to\\CodingWorkshops\\problems\\data_science\n",
    "\n",
    "    \n",
    "### Installation of Required packages\n",
    "\n",
    "The following packages are needed for this project.\n",
    "\n",
    "```\n",
    "numpy==1.14.2\n",
    "pandas==0.22.0\n",
    "python-dateutil==2.7.2\n",
    "pytz==2018.4\n",
    "scikit-learn==0.19.1\n",
    "scipy==1.0.1\n",
    "six==1.11.0\n",
    "sklearn==0.0\n",
    "altair==2.2.2 \n",
    "```\n",
    "These packages are listed in the file `requirements.txt` in this directory.\n",
    "From a terminal (in mac ox or linux) or command prompt (windows), install them using the following command.\n",
    "\n",
    "```\n",
    "pip install -r requirements.txt\n",
    "```\n",
    "\n",
    "Once the installation completed, start Jupyter notebook by issuing the command.\n",
    "    \n",
    "    > jupyter notebook\n",
    "\n",
    "Running the following command here will open up a browser (http://localhost:8888)  and display all the notebooks under this directory.\n",
    "Double click to open the `trackcoder` notebook.\n",
    "\n",
    "Next execute the cell below by hitting `Shift + Enter`."
   ]
  },
  {
   "cell_type": "code",
   "execution_count": 20,
   "metadata": {},
   "outputs": [],
   "source": [
    "import pandas"
   ]
  },
  {
   "cell_type": "markdown",
   "metadata": {},
   "source": [
    "If the above line executes without any error, then congratulations 🎉 - you have successfully installed everything, and ready to get started."
   ]
  },
  {
   "cell_type": "markdown",
   "metadata": {},
   "source": [
    "## Getting Started with Pandas"
   ]
  },
  {
   "cell_type": "markdown",
   "metadata": {},
   "source": [
    "### Loading pandas"
   ]
  },
  {
   "cell_type": "markdown",
   "metadata": {},
   "source": [
    "We will start off with an gentle introduction to `pandas` that is mostly taken from the [wonderful 10 minutes guide](https://pandas.pydata.org/pandas-docs/stable/10min.html). Lets start by importing the necessary packages."
   ]
  },
  {
   "cell_type": "code",
   "execution_count": 21,
   "metadata": {},
   "outputs": [],
   "source": [
    "import pandas as pd\n",
    "import numpy as np"
   ]
  },
  {
   "cell_type": "markdown",
   "metadata": {},
   "source": [
    "### Pandas Series and Dataframe"
   ]
  },
  {
   "cell_type": "markdown",
   "metadata": {},
   "source": [
    "#### Series"
   ]
  },
  {
   "cell_type": "markdown",
   "metadata": {},
   "source": [
    "A pandas `Series` is a one-dimensional labeled array capable of holding any data type. The axis labels are collectively referred to as the index. Lets create `series` from the different task types that we have defined in [Part 1](https://github.com/chicagopython/CodingWorkshops/tree/master/problems/py101/trackcoder#181-interactive-mode)."
   ]
  },
  {
   "cell_type": "code",
   "execution_count": 22,
   "metadata": {},
   "outputs": [
    {
     "name": "stdout",
     "output_type": "stream",
     "text": [
      "data: ['blogging' 'coding' 'debugging' 'mentor' 'pair_programming' 'research']\n",
      "index: Index(['b', 'c', 'd', 'm', 'p', 'r'], dtype='object')\n"
     ]
    }
   ],
   "source": [
    "description = pd.Series(data=['blogging','coding','debugging','mentor','pair_programming', 'research'], \n",
    "                        index=['b', 'c', 'd','m','p','r'])\n",
    "print(f\"data: {description.values}\\nindex: {description.index}\")"
   ]
  },
  {
   "cell_type": "markdown",
   "metadata": {},
   "source": [
    "#### DataFrame"
   ]
  },
  {
   "cell_type": "markdown",
   "metadata": {},
   "source": [
    "A pandas `DataFrame` is a 2-dimensional labeled data structure where the columns can be of different data types. \n",
    "\n",
    "Lets create another series with number of minutes and same indexes as that of `description`."
   ]
  },
  {
   "cell_type": "code",
   "execution_count": 23,
   "metadata": {},
   "outputs": [],
   "source": [
    "mins = pd.Series([100,100,200,50,50,300], ['b', 'c', 'd', 'm', 'p', 'r'])"
   ]
  },
  {
   "cell_type": "markdown",
   "metadata": {},
   "source": [
    "Now lets create a dataframe using `description` and `mins`."
   ]
  },
  {
   "cell_type": "code",
   "execution_count": 24,
   "metadata": {},
   "outputs": [
    {
     "data": {
      "text/html": [
       "<div>\n",
       "<style scoped>\n",
       "    .dataframe tbody tr th:only-of-type {\n",
       "        vertical-align: middle;\n",
       "    }\n",
       "\n",
       "    .dataframe tbody tr th {\n",
       "        vertical-align: top;\n",
       "    }\n",
       "\n",
       "    .dataframe thead th {\n",
       "        text-align: right;\n",
       "    }\n",
       "</style>\n",
       "<table border=\"1\" class=\"dataframe\">\n",
       "  <thead>\n",
       "    <tr style=\"text-align: right;\">\n",
       "      <th></th>\n",
       "      <th>description</th>\n",
       "      <th>mins</th>\n",
       "    </tr>\n",
       "  </thead>\n",
       "  <tbody>\n",
       "    <tr>\n",
       "      <th>b</th>\n",
       "      <td>blogging</td>\n",
       "      <td>100</td>\n",
       "    </tr>\n",
       "    <tr>\n",
       "      <th>c</th>\n",
       "      <td>coding</td>\n",
       "      <td>100</td>\n",
       "    </tr>\n",
       "    <tr>\n",
       "      <th>d</th>\n",
       "      <td>debugging</td>\n",
       "      <td>200</td>\n",
       "    </tr>\n",
       "    <tr>\n",
       "      <th>m</th>\n",
       "      <td>mentor</td>\n",
       "      <td>50</td>\n",
       "    </tr>\n",
       "    <tr>\n",
       "      <th>p</th>\n",
       "      <td>pair_programming</td>\n",
       "      <td>50</td>\n",
       "    </tr>\n",
       "    <tr>\n",
       "      <th>r</th>\n",
       "      <td>research</td>\n",
       "      <td>300</td>\n",
       "    </tr>\n",
       "  </tbody>\n",
       "</table>\n",
       "</div>"
      ],
      "text/plain": [
       "        description  mins\n",
       "b          blogging   100\n",
       "c            coding   100\n",
       "d         debugging   200\n",
       "m            mentor    50\n",
       "p  pair_programming    50\n",
       "r          research   300"
      ]
     },
     "execution_count": 24,
     "metadata": {},
     "output_type": "execute_result"
    }
   ],
   "source": [
    "d = {'description': description, 'mins': mins}\n",
    "\n",
    "frame = pd.DataFrame(d)\n",
    "frame"
   ]
  },
  {
   "cell_type": "markdown",
   "metadata": {},
   "source": [
    "### Loading the data"
   ]
  },
  {
   "cell_type": "markdown",
   "metadata": {},
   "source": [
    "Next we will load the data present in the sqlite database in the folder `CodingWorkshops/problems/py101/trackcoder/`. If you choose to use a different dataset, all you need to do is change the value of `db` to the path of your file."
   ]
  },
  {
   "cell_type": "code",
   "execution_count": 25,
   "metadata": {},
   "outputs": [],
   "source": [
    "db=\"../py101/trackcoder/to_do_list.db\""
   ]
  },
  {
   "cell_type": "code",
   "execution_count": 26,
   "metadata": {},
   "outputs": [],
   "source": [
    "import sqlite3\n",
    "conn = sqlite3.connect(db)\n",
    "df = pd.read_sql_query(\"select * from todo\", conn)"
   ]
  },
  {
   "cell_type": "markdown",
   "metadata": {},
   "source": [
    "### Viewing the data"
   ]
  },
  {
   "cell_type": "code",
   "execution_count": 27,
   "metadata": {},
   "outputs": [
    {
     "data": {
      "text/html": [
       "<div>\n",
       "<style scoped>\n",
       "    .dataframe tbody tr th:only-of-type {\n",
       "        vertical-align: middle;\n",
       "    }\n",
       "\n",
       "    .dataframe tbody tr th {\n",
       "        vertical-align: top;\n",
       "    }\n",
       "\n",
       "    .dataframe thead th {\n",
       "        text-align: right;\n",
       "    }\n",
       "</style>\n",
       "<table border=\"1\" class=\"dataframe\">\n",
       "  <thead>\n",
       "    <tr style=\"text-align: right;\">\n",
       "      <th></th>\n",
       "      <th>id</th>\n",
       "      <th>task</th>\n",
       "      <th>description</th>\n",
       "      <th>timestamp</th>\n",
       "      <th>mins</th>\n",
       "      <th>done</th>\n",
       "    </tr>\n",
       "  </thead>\n",
       "  <tbody>\n",
       "    <tr>\n",
       "      <th>0</th>\n",
       "      <td>1</td>\n",
       "      <td>b</td>\n",
       "      <td>#asyncio blog post completed</td>\n",
       "      <td>2018-10-12 23:00:56.864056</td>\n",
       "      <td>30</td>\n",
       "      <td>1</td>\n",
       "    </tr>\n",
       "    <tr>\n",
       "      <th>1</th>\n",
       "      <td>2</td>\n",
       "      <td>b</td>\n",
       "      <td>#asyncio is really completicated</td>\n",
       "      <td>2018-10-12 23:01:21.875416</td>\n",
       "      <td>30</td>\n",
       "      <td>1</td>\n",
       "    </tr>\n",
       "    <tr>\n",
       "      <th>2</th>\n",
       "      <td>3</td>\n",
       "      <td>b</td>\n",
       "      <td>#data_science is really completicated</td>\n",
       "      <td>2018-10-12 23:03:26.697286</td>\n",
       "      <td>30</td>\n",
       "      <td>1</td>\n",
       "    </tr>\n",
       "    <tr>\n",
       "      <th>3</th>\n",
       "      <td>4</td>\n",
       "      <td>c</td>\n",
       "      <td>#asyncio completed stuff</td>\n",
       "      <td>2018-10-12 23:07:19.131405</td>\n",
       "      <td>30</td>\n",
       "      <td>1</td>\n",
       "    </tr>\n",
       "    <tr>\n",
       "      <th>4</th>\n",
       "      <td>5</td>\n",
       "      <td>m</td>\n",
       "      <td>#asyncio ask some questions</td>\n",
       "      <td>2018-10-12 23:08:09.363419</td>\n",
       "      <td>30</td>\n",
       "      <td>1</td>\n",
       "    </tr>\n",
       "  </tbody>\n",
       "</table>\n",
       "</div>"
      ],
      "text/plain": [
       "   id task                            description                   timestamp  \\\n",
       "0   1    b           #asyncio blog post completed  2018-10-12 23:00:56.864056   \n",
       "1   2    b       #asyncio is really completicated  2018-10-12 23:01:21.875416   \n",
       "2   3    b  #data_science is really completicated  2018-10-12 23:03:26.697286   \n",
       "3   4    c               #asyncio completed stuff  2018-10-12 23:07:19.131405   \n",
       "4   5    m            #asyncio ask some questions  2018-10-12 23:08:09.363419   \n",
       "\n",
       "   mins  done  \n",
       "0    30     1  \n",
       "1    30     1  \n",
       "2    30     1  \n",
       "3    30     1  \n",
       "4    30     1  "
      ]
     },
     "execution_count": 27,
     "metadata": {},
     "output_type": "execute_result"
    }
   ],
   "source": [
    "df.head() #first 5 rows"
   ]
  },
  {
   "cell_type": "code",
   "execution_count": 28,
   "metadata": {},
   "outputs": [
    {
     "data": {
      "text/html": [
       "<div>\n",
       "<style scoped>\n",
       "    .dataframe tbody tr th:only-of-type {\n",
       "        vertical-align: middle;\n",
       "    }\n",
       "\n",
       "    .dataframe tbody tr th {\n",
       "        vertical-align: top;\n",
       "    }\n",
       "\n",
       "    .dataframe thead th {\n",
       "        text-align: right;\n",
       "    }\n",
       "</style>\n",
       "<table border=\"1\" class=\"dataframe\">\n",
       "  <thead>\n",
       "    <tr style=\"text-align: right;\">\n",
       "      <th></th>\n",
       "      <th>id</th>\n",
       "      <th>task</th>\n",
       "      <th>description</th>\n",
       "      <th>timestamp</th>\n",
       "      <th>mins</th>\n",
       "      <th>done</th>\n",
       "    </tr>\n",
       "  </thead>\n",
       "  <tbody>\n",
       "    <tr>\n",
       "      <th>22</th>\n",
       "      <td>23</td>\n",
       "      <td>c</td>\n",
       "      <td>#pandas apply function to a dataframe</td>\n",
       "      <td>2018-11-04 05:39:13.803043</td>\n",
       "      <td>20</td>\n",
       "      <td>1</td>\n",
       "    </tr>\n",
       "    <tr>\n",
       "      <th>23</th>\n",
       "      <td>24</td>\n",
       "      <td>m</td>\n",
       "      <td>checking in with mentor</td>\n",
       "      <td>2018-11-04 05:43:03.523862</td>\n",
       "      <td>20</td>\n",
       "      <td>1</td>\n",
       "    </tr>\n",
       "    <tr>\n",
       "      <th>24</th>\n",
       "      <td>25</td>\n",
       "      <td>d</td>\n",
       "      <td>stupid typo-ed a comma!</td>\n",
       "      <td>2018-11-04 06:07:05.694163</td>\n",
       "      <td>20</td>\n",
       "      <td>1</td>\n",
       "    </tr>\n",
       "    <tr>\n",
       "      <th>25</th>\n",
       "      <td>26</td>\n",
       "      <td>d</td>\n",
       "      <td>#visualization trying to figure string type fo...</td>\n",
       "      <td>2018-11-04 07:00:06.893573</td>\n",
       "      <td>20</td>\n",
       "      <td>1</td>\n",
       "    </tr>\n",
       "    <tr>\n",
       "      <th>26</th>\n",
       "      <td>27</td>\n",
       "      <td>c</td>\n",
       "      <td>#visualization barchart created</td>\n",
       "      <td>2018-11-04 07:55:20.632394</td>\n",
       "      <td>20</td>\n",
       "      <td>1</td>\n",
       "    </tr>\n",
       "  </tbody>\n",
       "</table>\n",
       "</div>"
      ],
      "text/plain": [
       "    id task                                        description  \\\n",
       "22  23    c              #pandas apply function to a dataframe   \n",
       "23  24    m                            checking in with mentor   \n",
       "24  25    d                            stupid typo-ed a comma!   \n",
       "25  26    d  #visualization trying to figure string type fo...   \n",
       "26  27    c                    #visualization barchart created   \n",
       "\n",
       "                     timestamp  mins  done  \n",
       "22  2018-11-04 05:39:13.803043    20     1  \n",
       "23  2018-11-04 05:43:03.523862    20     1  \n",
       "24  2018-11-04 06:07:05.694163    20     1  \n",
       "25  2018-11-04 07:00:06.893573    20     1  \n",
       "26  2018-11-04 07:55:20.632394    20     1  "
      ]
     },
     "execution_count": 28,
     "metadata": {},
     "output_type": "execute_result"
    }
   ],
   "source": [
    "df.tail() # last 5 rows"
   ]
  },
  {
   "cell_type": "markdown",
   "metadata": {},
   "source": [
    "### Fix data type"
   ]
  },
  {
   "cell_type": "markdown",
   "metadata": {},
   "source": [
    "Pandas has the following data types."
   ]
  },
  {
   "cell_type": "markdown",
   "metadata": {},
   "source": [
    "```\n",
    "object\n",
    "int64\n",
    "float64\n",
    "bool\n",
    "datetime64\n",
    "timedelta[ns]\n",
    "category\n",
    "```"
   ]
  },
  {
   "cell_type": "markdown",
   "metadata": {},
   "source": [
    "Notice that when we imported the data from our sqlite database, all the columns got imported as objects. Lets fix this by editing the data type of the column inplace, i.e. modify the data frame so that beyond this point this change will persist for the dataframe."
   ]
  },
  {
   "cell_type": "code",
   "execution_count": 29,
   "metadata": {},
   "outputs": [
    {
     "data": {
      "text/html": [
       "<div>\n",
       "<style scoped>\n",
       "    .dataframe tbody tr th:only-of-type {\n",
       "        vertical-align: middle;\n",
       "    }\n",
       "\n",
       "    .dataframe tbody tr th {\n",
       "        vertical-align: top;\n",
       "    }\n",
       "\n",
       "    .dataframe thead th {\n",
       "        text-align: right;\n",
       "    }\n",
       "</style>\n",
       "<table border=\"1\" class=\"dataframe\">\n",
       "  <thead>\n",
       "    <tr style=\"text-align: right;\">\n",
       "      <th></th>\n",
       "      <th>id</th>\n",
       "      <th>task</th>\n",
       "      <th>description</th>\n",
       "      <th>timestamp</th>\n",
       "      <th>mins</th>\n",
       "      <th>done</th>\n",
       "    </tr>\n",
       "  </thead>\n",
       "  <tbody>\n",
       "    <tr>\n",
       "      <th>0</th>\n",
       "      <td>1</td>\n",
       "      <td>b</td>\n",
       "      <td>#asyncio blog post completed</td>\n",
       "      <td>2018-10-12 23:00:56.864056</td>\n",
       "      <td>30</td>\n",
       "      <td>True</td>\n",
       "    </tr>\n",
       "    <tr>\n",
       "      <th>1</th>\n",
       "      <td>2</td>\n",
       "      <td>b</td>\n",
       "      <td>#asyncio is really completicated</td>\n",
       "      <td>2018-10-12 23:01:21.875416</td>\n",
       "      <td>30</td>\n",
       "      <td>True</td>\n",
       "    </tr>\n",
       "    <tr>\n",
       "      <th>2</th>\n",
       "      <td>3</td>\n",
       "      <td>b</td>\n",
       "      <td>#data_science is really completicated</td>\n",
       "      <td>2018-10-12 23:03:26.697286</td>\n",
       "      <td>30</td>\n",
       "      <td>True</td>\n",
       "    </tr>\n",
       "    <tr>\n",
       "      <th>3</th>\n",
       "      <td>4</td>\n",
       "      <td>c</td>\n",
       "      <td>#asyncio completed stuff</td>\n",
       "      <td>2018-10-12 23:07:19.131405</td>\n",
       "      <td>30</td>\n",
       "      <td>True</td>\n",
       "    </tr>\n",
       "    <tr>\n",
       "      <th>4</th>\n",
       "      <td>5</td>\n",
       "      <td>m</td>\n",
       "      <td>#asyncio ask some questions</td>\n",
       "      <td>2018-10-12 23:08:09.363419</td>\n",
       "      <td>30</td>\n",
       "      <td>True</td>\n",
       "    </tr>\n",
       "  </tbody>\n",
       "</table>\n",
       "</div>"
      ],
      "text/plain": [
       "   id task                            description                  timestamp  \\\n",
       "0   1    b           #asyncio blog post completed 2018-10-12 23:00:56.864056   \n",
       "1   2    b       #asyncio is really completicated 2018-10-12 23:01:21.875416   \n",
       "2   3    b  #data_science is really completicated 2018-10-12 23:03:26.697286   \n",
       "3   4    c               #asyncio completed stuff 2018-10-12 23:07:19.131405   \n",
       "4   5    m            #asyncio ask some questions 2018-10-12 23:08:09.363419   \n",
       "\n",
       "   mins  done  \n",
       "0    30  True  \n",
       "1    30  True  \n",
       "2    30  True  \n",
       "3    30  True  \n",
       "4    30  True  "
      ]
     },
     "execution_count": 29,
     "metadata": {},
     "output_type": "execute_result"
    }
   ],
   "source": [
    "df['timestamp'] = df['timestamp'].astype('datetime64')\n",
    "df['done'] = df['done'].astype('bool')\n",
    "df.head()"
   ]
  },
  {
   "cell_type": "markdown",
   "metadata": {},
   "source": [
    "### Index, columns and summary"
   ]
  },
  {
   "cell_type": "code",
   "execution_count": 12,
   "metadata": {},
   "outputs": [
    {
     "data": {
      "text/plain": [
       "RangeIndex(start=0, stop=27, step=1)"
      ]
     },
     "execution_count": 12,
     "metadata": {},
     "output_type": "execute_result"
    }
   ],
   "source": [
    "df.index"
   ]
  },
  {
   "cell_type": "markdown",
   "metadata": {},
   "source": [
    "Columns"
   ]
  },
  {
   "cell_type": "code",
   "execution_count": 13,
   "metadata": {},
   "outputs": [
    {
     "data": {
      "text/plain": [
       "Index(['id', 'task', 'description', 'timestamp', 'mins', 'done'], dtype='object')"
      ]
     },
     "execution_count": 13,
     "metadata": {},
     "output_type": "execute_result"
    }
   ],
   "source": [
    "df.columns"
   ]
  },
  {
   "cell_type": "markdown",
   "metadata": {},
   "source": [
    "Quickly summarize the descriptive statistics"
   ]
  },
  {
   "cell_type": "code",
   "execution_count": 30,
   "metadata": {},
   "outputs": [
    {
     "data": {
      "text/html": [
       "<div>\n",
       "<style scoped>\n",
       "    .dataframe tbody tr th:only-of-type {\n",
       "        vertical-align: middle;\n",
       "    }\n",
       "\n",
       "    .dataframe tbody tr th {\n",
       "        vertical-align: top;\n",
       "    }\n",
       "\n",
       "    .dataframe thead th {\n",
       "        text-align: right;\n",
       "    }\n",
       "</style>\n",
       "<table border=\"1\" class=\"dataframe\">\n",
       "  <thead>\n",
       "    <tr style=\"text-align: right;\">\n",
       "      <th></th>\n",
       "      <th>id</th>\n",
       "      <th>mins</th>\n",
       "    </tr>\n",
       "  </thead>\n",
       "  <tbody>\n",
       "    <tr>\n",
       "      <th>count</th>\n",
       "      <td>27.000000</td>\n",
       "      <td>27.000000</td>\n",
       "    </tr>\n",
       "    <tr>\n",
       "      <th>mean</th>\n",
       "      <td>14.000000</td>\n",
       "      <td>22.592593</td>\n",
       "    </tr>\n",
       "    <tr>\n",
       "      <th>std</th>\n",
       "      <td>7.937254</td>\n",
       "      <td>8.477387</td>\n",
       "    </tr>\n",
       "    <tr>\n",
       "      <th>min</th>\n",
       "      <td>1.000000</td>\n",
       "      <td>5.000000</td>\n",
       "    </tr>\n",
       "    <tr>\n",
       "      <th>25%</th>\n",
       "      <td>7.500000</td>\n",
       "      <td>20.000000</td>\n",
       "    </tr>\n",
       "    <tr>\n",
       "      <th>50%</th>\n",
       "      <td>14.000000</td>\n",
       "      <td>20.000000</td>\n",
       "    </tr>\n",
       "    <tr>\n",
       "      <th>75%</th>\n",
       "      <td>20.500000</td>\n",
       "      <td>30.000000</td>\n",
       "    </tr>\n",
       "    <tr>\n",
       "      <th>max</th>\n",
       "      <td>27.000000</td>\n",
       "      <td>30.000000</td>\n",
       "    </tr>\n",
       "  </tbody>\n",
       "</table>\n",
       "</div>"
      ],
      "text/plain": [
       "              id       mins\n",
       "count  27.000000  27.000000\n",
       "mean   14.000000  22.592593\n",
       "std     7.937254   8.477387\n",
       "min     1.000000   5.000000\n",
       "25%     7.500000  20.000000\n",
       "50%    14.000000  20.000000\n",
       "75%    20.500000  30.000000\n",
       "max    27.000000  30.000000"
      ]
     },
     "execution_count": 30,
     "metadata": {},
     "output_type": "execute_result"
    }
   ],
   "source": [
    "df.describe()"
   ]
  },
  {
   "cell_type": "markdown",
   "metadata": {},
   "source": [
    "### Selecting data"
   ]
  },
  {
   "cell_type": "markdown",
   "metadata": {},
   "source": [
    "Lets say we need to find the first three tasks, and get the values for timestamp and description of the task. Pandas provides a few ways to access the data from the dataframe - by label based indexes, numerical indexes or a hybrid approach.\n",
    "\n",
    "Try them out by yourself, by running the code below."
   ]
  },
  {
   "cell_type": "markdown",
   "metadata": {},
   "source": [
    "```python\n",
    "df[0:2] # gives you first three rows, all columns\n",
    "df[0:2][['timestamp', 'description']] # returns a copy with only 'timestamp' and 'description'\n",
    "\n",
    "df.iloc[0:2] # purely integer based indexing, similar to indexing in python. first three rows, all columns\n",
    "df.iloc[0:2][['timestamp', 'description']]\n",
    "df.iloc[[0,1,2],[2,3]]\n",
    "```"
   ]
  },
  {
   "cell_type": "code",
   "execution_count": 31,
   "metadata": {},
   "outputs": [
    {
     "data": {
      "text/html": [
       "<div>\n",
       "<style scoped>\n",
       "    .dataframe tbody tr th:only-of-type {\n",
       "        vertical-align: middle;\n",
       "    }\n",
       "\n",
       "    .dataframe tbody tr th {\n",
       "        vertical-align: top;\n",
       "    }\n",
       "\n",
       "    .dataframe thead th {\n",
       "        text-align: right;\n",
       "    }\n",
       "</style>\n",
       "<table border=\"1\" class=\"dataframe\">\n",
       "  <thead>\n",
       "    <tr style=\"text-align: right;\">\n",
       "      <th></th>\n",
       "      <th>description</th>\n",
       "      <th>timestamp</th>\n",
       "    </tr>\n",
       "  </thead>\n",
       "  <tbody>\n",
       "    <tr>\n",
       "      <th>0</th>\n",
       "      <td>#asyncio blog post completed</td>\n",
       "      <td>2018-10-12 23:00:56.864056</td>\n",
       "    </tr>\n",
       "    <tr>\n",
       "      <th>1</th>\n",
       "      <td>#asyncio is really completicated</td>\n",
       "      <td>2018-10-12 23:01:21.875416</td>\n",
       "    </tr>\n",
       "    <tr>\n",
       "      <th>2</th>\n",
       "      <td>#data_science is really completicated</td>\n",
       "      <td>2018-10-12 23:03:26.697286</td>\n",
       "    </tr>\n",
       "  </tbody>\n",
       "</table>\n",
       "</div>"
      ],
      "text/plain": [
       "                             description                  timestamp\n",
       "0           #asyncio blog post completed 2018-10-12 23:00:56.864056\n",
       "1       #asyncio is really completicated 2018-10-12 23:01:21.875416\n",
       "2  #data_science is really completicated 2018-10-12 23:03:26.697286"
      ]
     },
     "execution_count": 31,
     "metadata": {},
     "output_type": "execute_result"
    }
   ],
   "source": [
    "df.iloc[[0,1,2],[2,3]]"
   ]
  },
  {
   "cell_type": "markdown",
   "metadata": {},
   "source": [
    "To better understand how indexes work and show how the last two are different, lets make a copy of our dataframe."
   ]
  },
  {
   "cell_type": "code",
   "execution_count": 16,
   "metadata": {},
   "outputs": [],
   "source": [
    "_df = df.copy()"
   ]
  },
  {
   "cell_type": "markdown",
   "metadata": {},
   "source": [
    "Lets set the index to be task instead of index pandas automatically provided us with."
   ]
  },
  {
   "cell_type": "code",
   "execution_count": 17,
   "metadata": {},
   "outputs": [],
   "source": [
    "_df.set_index('task', inplace=True)"
   ]
  },
  {
   "cell_type": "markdown",
   "metadata": {},
   "source": [
    "Take a look at how the `_df` is different from `df`."
   ]
  },
  {
   "cell_type": "code",
   "execution_count": null,
   "metadata": {},
   "outputs": [],
   "source": []
  },
  {
   "cell_type": "markdown",
   "metadata": {},
   "source": [
    "Now execute the following cells to find how different indexes can be used for selecting data."
   ]
  },
  {
   "cell_type": "markdown",
   "metadata": {},
   "source": [
    "```python\n",
    "_df.loc['b'] # all rows matching task type b\n",
    "_df.loc[_df['mins']==30, ['description','timestamp']] # returns only a dataframe where the mins equals 30\n",
    "_df.loc[_df['mins']==30, 'description'] # returns a series where the mins equals 30\n",
    "```"
   ]
  },
  {
   "cell_type": "code",
   "execution_count": null,
   "metadata": {},
   "outputs": [],
   "source": []
  },
  {
   "cell_type": "markdown",
   "metadata": {},
   "source": [
    "Finally, check how having different indexes change the way you access the data."
   ]
  },
  {
   "cell_type": "code",
   "execution_count": 18,
   "metadata": {},
   "outputs": [
    {
     "ename": "TypeError",
     "evalue": "cannot do slice indexing on <class 'pandas.core.indexes.base.Index'> with these indexers [0] of <class 'int'>",
     "output_type": "error",
     "traceback": [
      "\u001b[0;31m---------------------------------------------------------------------------\u001b[0m",
      "\u001b[0;31mTypeError\u001b[0m                                 Traceback (most recent call last)",
      "\u001b[0;32m<ipython-input-18-18c54e0c834a>\u001b[0m in \u001b[0;36m<module>\u001b[0;34m\u001b[0m\n\u001b[1;32m      1\u001b[0m \u001b[0mdf\u001b[0m\u001b[0;34m.\u001b[0m\u001b[0mloc\u001b[0m\u001b[0;34m[\u001b[0m\u001b[0;36m0\u001b[0m\u001b[0;34m:\u001b[0m\u001b[0;36m2\u001b[0m\u001b[0;34m]\u001b[0m \u001b[0;31m# Purely label-location based indexer for selection by label. This works as index is an integer.\u001b[0m\u001b[0;34m\u001b[0m\u001b[0m\n\u001b[0;32m----> 2\u001b[0;31m \u001b[0m_df\u001b[0m\u001b[0;34m.\u001b[0m\u001b[0mloc\u001b[0m\u001b[0;34m[\u001b[0m\u001b[0;36m0\u001b[0m\u001b[0;34m:\u001b[0m\u001b[0;36m2\u001b[0m\u001b[0;34m]\u001b[0m \u001b[0;31m# Does not work\u001b[0m\u001b[0;34m\u001b[0m\u001b[0m\n\u001b[0m",
      "\u001b[0;32m~/projects/playground/CodingWorkshops/problems/data_science/venv/lib/python3.6/site-packages/pandas/core/indexing.py\u001b[0m in \u001b[0;36m__getitem__\u001b[0;34m(self, key)\u001b[0m\n\u001b[1;32m   1371\u001b[0m \u001b[0;34m\u001b[0m\u001b[0m\n\u001b[1;32m   1372\u001b[0m             \u001b[0mmaybe_callable\u001b[0m \u001b[0;34m=\u001b[0m \u001b[0mcom\u001b[0m\u001b[0;34m.\u001b[0m\u001b[0m_apply_if_callable\u001b[0m\u001b[0;34m(\u001b[0m\u001b[0mkey\u001b[0m\u001b[0;34m,\u001b[0m \u001b[0mself\u001b[0m\u001b[0;34m.\u001b[0m\u001b[0mobj\u001b[0m\u001b[0;34m)\u001b[0m\u001b[0;34m\u001b[0m\u001b[0m\n\u001b[0;32m-> 1373\u001b[0;31m             \u001b[0;32mreturn\u001b[0m \u001b[0mself\u001b[0m\u001b[0;34m.\u001b[0m\u001b[0m_getitem_axis\u001b[0m\u001b[0;34m(\u001b[0m\u001b[0mmaybe_callable\u001b[0m\u001b[0;34m,\u001b[0m \u001b[0maxis\u001b[0m\u001b[0;34m=\u001b[0m\u001b[0maxis\u001b[0m\u001b[0;34m)\u001b[0m\u001b[0;34m\u001b[0m\u001b[0m\n\u001b[0m\u001b[1;32m   1374\u001b[0m \u001b[0;34m\u001b[0m\u001b[0m\n\u001b[1;32m   1375\u001b[0m     \u001b[0;32mdef\u001b[0m \u001b[0m_is_scalar_access\u001b[0m\u001b[0;34m(\u001b[0m\u001b[0mself\u001b[0m\u001b[0;34m,\u001b[0m \u001b[0mkey\u001b[0m\u001b[0;34m)\u001b[0m\u001b[0;34m:\u001b[0m\u001b[0;34m\u001b[0m\u001b[0m\n",
      "\u001b[0;32m~/projects/playground/CodingWorkshops/problems/data_science/venv/lib/python3.6/site-packages/pandas/core/indexing.py\u001b[0m in \u001b[0;36m_getitem_axis\u001b[0;34m(self, key, axis)\u001b[0m\n\u001b[1;32m   1579\u001b[0m         \u001b[0;32mif\u001b[0m \u001b[0misinstance\u001b[0m\u001b[0;34m(\u001b[0m\u001b[0mkey\u001b[0m\u001b[0;34m,\u001b[0m \u001b[0mslice\u001b[0m\u001b[0;34m)\u001b[0m\u001b[0;34m:\u001b[0m\u001b[0;34m\u001b[0m\u001b[0m\n\u001b[1;32m   1580\u001b[0m             \u001b[0mself\u001b[0m\u001b[0;34m.\u001b[0m\u001b[0m_has_valid_type\u001b[0m\u001b[0;34m(\u001b[0m\u001b[0mkey\u001b[0m\u001b[0;34m,\u001b[0m \u001b[0maxis\u001b[0m\u001b[0;34m)\u001b[0m\u001b[0;34m\u001b[0m\u001b[0m\n\u001b[0;32m-> 1581\u001b[0;31m             \u001b[0;32mreturn\u001b[0m \u001b[0mself\u001b[0m\u001b[0;34m.\u001b[0m\u001b[0m_get_slice_axis\u001b[0m\u001b[0;34m(\u001b[0m\u001b[0mkey\u001b[0m\u001b[0;34m,\u001b[0m \u001b[0maxis\u001b[0m\u001b[0;34m=\u001b[0m\u001b[0maxis\u001b[0m\u001b[0;34m)\u001b[0m\u001b[0;34m\u001b[0m\u001b[0m\n\u001b[0m\u001b[1;32m   1582\u001b[0m         \u001b[0;32melif\u001b[0m \u001b[0mis_bool_indexer\u001b[0m\u001b[0;34m(\u001b[0m\u001b[0mkey\u001b[0m\u001b[0;34m)\u001b[0m\u001b[0;34m:\u001b[0m\u001b[0;34m\u001b[0m\u001b[0m\n\u001b[1;32m   1583\u001b[0m             \u001b[0;32mreturn\u001b[0m \u001b[0mself\u001b[0m\u001b[0;34m.\u001b[0m\u001b[0m_getbool_axis\u001b[0m\u001b[0;34m(\u001b[0m\u001b[0mkey\u001b[0m\u001b[0;34m,\u001b[0m \u001b[0maxis\u001b[0m\u001b[0;34m=\u001b[0m\u001b[0maxis\u001b[0m\u001b[0;34m)\u001b[0m\u001b[0;34m\u001b[0m\u001b[0m\n",
      "\u001b[0;32m~/projects/playground/CodingWorkshops/problems/data_science/venv/lib/python3.6/site-packages/pandas/core/indexing.py\u001b[0m in \u001b[0;36m_get_slice_axis\u001b[0;34m(self, slice_obj, axis)\u001b[0m\n\u001b[1;32m   1404\u001b[0m         \u001b[0mlabels\u001b[0m \u001b[0;34m=\u001b[0m \u001b[0mobj\u001b[0m\u001b[0;34m.\u001b[0m\u001b[0m_get_axis\u001b[0m\u001b[0;34m(\u001b[0m\u001b[0maxis\u001b[0m\u001b[0;34m)\u001b[0m\u001b[0;34m\u001b[0m\u001b[0m\n\u001b[1;32m   1405\u001b[0m         indexer = labels.slice_indexer(slice_obj.start, slice_obj.stop,\n\u001b[0;32m-> 1406\u001b[0;31m                                        slice_obj.step, kind=self.name)\n\u001b[0m\u001b[1;32m   1407\u001b[0m \u001b[0;34m\u001b[0m\u001b[0m\n\u001b[1;32m   1408\u001b[0m         \u001b[0;32mif\u001b[0m \u001b[0misinstance\u001b[0m\u001b[0;34m(\u001b[0m\u001b[0mindexer\u001b[0m\u001b[0;34m,\u001b[0m \u001b[0mslice\u001b[0m\u001b[0;34m)\u001b[0m\u001b[0;34m:\u001b[0m\u001b[0;34m\u001b[0m\u001b[0m\n",
      "\u001b[0;32m~/projects/playground/CodingWorkshops/problems/data_science/venv/lib/python3.6/site-packages/pandas/core/indexes/base.py\u001b[0m in \u001b[0;36mslice_indexer\u001b[0;34m(self, start, end, step, kind)\u001b[0m\n\u001b[1;32m   3455\u001b[0m         \"\"\"\n\u001b[1;32m   3456\u001b[0m         start_slice, end_slice = self.slice_locs(start, end, step=step,\n\u001b[0;32m-> 3457\u001b[0;31m                                                  kind=kind)\n\u001b[0m\u001b[1;32m   3458\u001b[0m \u001b[0;34m\u001b[0m\u001b[0m\n\u001b[1;32m   3459\u001b[0m         \u001b[0;31m# return a slice\u001b[0m\u001b[0;34m\u001b[0m\u001b[0;34m\u001b[0m\u001b[0m\n",
      "\u001b[0;32m~/projects/playground/CodingWorkshops/problems/data_science/venv/lib/python3.6/site-packages/pandas/core/indexes/base.py\u001b[0m in \u001b[0;36mslice_locs\u001b[0;34m(self, start, end, step, kind)\u001b[0m\n\u001b[1;32m   3656\u001b[0m         \u001b[0mstart_slice\u001b[0m \u001b[0;34m=\u001b[0m \u001b[0;32mNone\u001b[0m\u001b[0;34m\u001b[0m\u001b[0m\n\u001b[1;32m   3657\u001b[0m         \u001b[0;32mif\u001b[0m \u001b[0mstart\u001b[0m \u001b[0;32mis\u001b[0m \u001b[0;32mnot\u001b[0m \u001b[0;32mNone\u001b[0m\u001b[0;34m:\u001b[0m\u001b[0;34m\u001b[0m\u001b[0m\n\u001b[0;32m-> 3658\u001b[0;31m             \u001b[0mstart_slice\u001b[0m \u001b[0;34m=\u001b[0m \u001b[0mself\u001b[0m\u001b[0;34m.\u001b[0m\u001b[0mget_slice_bound\u001b[0m\u001b[0;34m(\u001b[0m\u001b[0mstart\u001b[0m\u001b[0;34m,\u001b[0m \u001b[0;34m'left'\u001b[0m\u001b[0;34m,\u001b[0m \u001b[0mkind\u001b[0m\u001b[0;34m)\u001b[0m\u001b[0;34m\u001b[0m\u001b[0m\n\u001b[0m\u001b[1;32m   3659\u001b[0m         \u001b[0;32mif\u001b[0m \u001b[0mstart_slice\u001b[0m \u001b[0;32mis\u001b[0m \u001b[0;32mNone\u001b[0m\u001b[0;34m:\u001b[0m\u001b[0;34m\u001b[0m\u001b[0m\n\u001b[1;32m   3660\u001b[0m             \u001b[0mstart_slice\u001b[0m \u001b[0;34m=\u001b[0m \u001b[0;36m0\u001b[0m\u001b[0;34m\u001b[0m\u001b[0m\n",
      "\u001b[0;32m~/projects/playground/CodingWorkshops/problems/data_science/venv/lib/python3.6/site-packages/pandas/core/indexes/base.py\u001b[0m in \u001b[0;36mget_slice_bound\u001b[0;34m(self, label, side, kind)\u001b[0m\n\u001b[1;32m   3582\u001b[0m         \u001b[0;31m# For datetime indices label may be a string that has to be converted\u001b[0m\u001b[0;34m\u001b[0m\u001b[0;34m\u001b[0m\u001b[0m\n\u001b[1;32m   3583\u001b[0m         \u001b[0;31m# to datetime boundary according to its resolution.\u001b[0m\u001b[0;34m\u001b[0m\u001b[0;34m\u001b[0m\u001b[0m\n\u001b[0;32m-> 3584\u001b[0;31m         \u001b[0mlabel\u001b[0m \u001b[0;34m=\u001b[0m \u001b[0mself\u001b[0m\u001b[0;34m.\u001b[0m\u001b[0m_maybe_cast_slice_bound\u001b[0m\u001b[0;34m(\u001b[0m\u001b[0mlabel\u001b[0m\u001b[0;34m,\u001b[0m \u001b[0mside\u001b[0m\u001b[0;34m,\u001b[0m \u001b[0mkind\u001b[0m\u001b[0;34m)\u001b[0m\u001b[0;34m\u001b[0m\u001b[0m\n\u001b[0m\u001b[1;32m   3585\u001b[0m \u001b[0;34m\u001b[0m\u001b[0m\n\u001b[1;32m   3586\u001b[0m         \u001b[0;31m# we need to look up the label\u001b[0m\u001b[0;34m\u001b[0m\u001b[0;34m\u001b[0m\u001b[0m\n",
      "\u001b[0;32m~/projects/playground/CodingWorkshops/problems/data_science/venv/lib/python3.6/site-packages/pandas/core/indexes/base.py\u001b[0m in \u001b[0;36m_maybe_cast_slice_bound\u001b[0;34m(self, label, side, kind)\u001b[0m\n\u001b[1;32m   3533\u001b[0m         \u001b[0;31m# this is rejected (generally .loc gets you here)\u001b[0m\u001b[0;34m\u001b[0m\u001b[0;34m\u001b[0m\u001b[0m\n\u001b[1;32m   3534\u001b[0m         \u001b[0;32melif\u001b[0m \u001b[0mis_integer\u001b[0m\u001b[0;34m(\u001b[0m\u001b[0mlabel\u001b[0m\u001b[0;34m)\u001b[0m\u001b[0;34m:\u001b[0m\u001b[0;34m\u001b[0m\u001b[0m\n\u001b[0;32m-> 3535\u001b[0;31m             \u001b[0mself\u001b[0m\u001b[0;34m.\u001b[0m\u001b[0m_invalid_indexer\u001b[0m\u001b[0;34m(\u001b[0m\u001b[0;34m'slice'\u001b[0m\u001b[0;34m,\u001b[0m \u001b[0mlabel\u001b[0m\u001b[0;34m)\u001b[0m\u001b[0;34m\u001b[0m\u001b[0m\n\u001b[0m\u001b[1;32m   3536\u001b[0m \u001b[0;34m\u001b[0m\u001b[0m\n\u001b[1;32m   3537\u001b[0m         \u001b[0;32mreturn\u001b[0m \u001b[0mlabel\u001b[0m\u001b[0;34m\u001b[0m\u001b[0m\n",
      "\u001b[0;32m~/projects/playground/CodingWorkshops/problems/data_science/venv/lib/python3.6/site-packages/pandas/core/indexes/base.py\u001b[0m in \u001b[0;36m_invalid_indexer\u001b[0;34m(self, form, key)\u001b[0m\n\u001b[1;32m   1574\u001b[0m                         \"indexers [{key}] of {kind}\".format(\n\u001b[1;32m   1575\u001b[0m                             \u001b[0mform\u001b[0m\u001b[0;34m=\u001b[0m\u001b[0mform\u001b[0m\u001b[0;34m,\u001b[0m \u001b[0mklass\u001b[0m\u001b[0;34m=\u001b[0m\u001b[0mtype\u001b[0m\u001b[0;34m(\u001b[0m\u001b[0mself\u001b[0m\u001b[0;34m)\u001b[0m\u001b[0;34m,\u001b[0m \u001b[0mkey\u001b[0m\u001b[0;34m=\u001b[0m\u001b[0mkey\u001b[0m\u001b[0;34m,\u001b[0m\u001b[0;34m\u001b[0m\u001b[0m\n\u001b[0;32m-> 1576\u001b[0;31m                             kind=type(key)))\n\u001b[0m\u001b[1;32m   1577\u001b[0m \u001b[0;34m\u001b[0m\u001b[0m\n\u001b[1;32m   1578\u001b[0m     \u001b[0;32mdef\u001b[0m \u001b[0mget_duplicates\u001b[0m\u001b[0;34m(\u001b[0m\u001b[0mself\u001b[0m\u001b[0;34m)\u001b[0m\u001b[0;34m:\u001b[0m\u001b[0;34m\u001b[0m\u001b[0m\n",
      "\u001b[0;31mTypeError\u001b[0m: cannot do slice indexing on <class 'pandas.core.indexes.base.Index'> with these indexers [0] of <class 'int'>"
     ]
    }
   ],
   "source": [
    "df.loc[0:2] # Purely label-location based indexer for selection by label. This works as index is an integer.\n",
    "_df.loc[0:2] # Does not work"
   ]
  },
  {
   "cell_type": "markdown",
   "metadata": {},
   "source": [
    "To understand more about how indexes work read through [Zax's tutorial on Pandas MultiIndex](http://www.zaxrosenberg.com/pandas-multiindex-tutorial/)"
   ]
  },
  {
   "cell_type": "markdown",
   "metadata": {},
   "source": [
    "### Aggregation\n",
    "Now that we have some idea about the basics, lets get into the actual analysis. Lets start by getting the total count of each type of task that we have in our dataset."
   ]
  },
  {
   "cell_type": "code",
   "execution_count": null,
   "metadata": {},
   "outputs": [],
   "source": [
    "df['task'].groupby(df['task']).count()"
   ]
  },
  {
   "cell_type": "markdown",
   "metadata": {},
   "source": [
    "### What are the frequencies of each task type?\n",
    "Note the above result is a Series. One approach can be to [reset the index](https://pandas.pydata.org/pandas-docs/stable/generated/pandas.Series.reset_index.html) of the series using the count of the task types and sort in the reverse order to get the list."
   ]
  },
  {
   "cell_type": "code",
   "execution_count": null,
   "metadata": {},
   "outputs": [],
   "source": [
    "df['task'].groupby(df['task']).count().reset_index(name='count').sort_values('count', ascending=False)"
   ]
  },
  {
   "cell_type": "markdown",
   "metadata": {},
   "source": [
    "### What are the frequency of each task type per day?\n",
    "Aggregation can be performed on multiple columns as well.\n",
    "\n",
    "Hint: `pd.DatetimeIndex(df['timestamp']).date` [will extract date](https://stackoverflow.com/a/21954923/276569) from a timestamp."
   ]
  },
  {
   "cell_type": "code",
   "execution_count": null,
   "metadata": {},
   "outputs": [],
   "source": [
    "df[['task', 'timestamp']].groupby([pd.DatetimeIndex(df['timestamp']).date, 'task']).count()"
   ]
  },
  {
   "cell_type": "markdown",
   "metadata": {},
   "source": [
    "### What are the amount of time spent per task type?\n",
    "\n",
    "You can use the [`sum` function](https://pandas.pydata.org/pandas-docs/stable/generated/pandas.DataFrame.sum.html) to add up the minutes and sort them in reverse order."
   ]
  },
  {
   "cell_type": "code",
   "execution_count": null,
   "metadata": {},
   "outputs": [],
   "source": [
    "df[['task', 'mins']].groupby(df['task']).sum().sort_values('mins', ascending=False)"
   ]
  },
  {
   "cell_type": "markdown",
   "metadata": {},
   "source": [
    "## Hashtag analysis\n",
    "\n",
    "Hashtags are simple and easy way to put contextual information and in our data we find them in task descriptions. A task description might have no hashtag at all, a single hashtag or multiple hashtags. To start we need to parse the hashtags out from the description using regular expression. The following shows how multiple hastags are parsed out from a singe description.\n",
    "\n",
    "```python\n",
    "description = pd.Series(['#altair #pandas at project night'])\n",
    "description.str.findall(r'#.*?(?=\\s|$)').tolist()\n",
    "```\n"
   ]
  },
  {
   "cell_type": "code",
   "execution_count": null,
   "metadata": {},
   "outputs": [],
   "source": []
  },
  {
   "cell_type": "markdown",
   "metadata": {},
   "source": [
    "Note the result returned by running the above snippet is a list of lists. You probably want to flatten the list."
   ]
  },
  {
   "cell_type": "markdown",
   "metadata": {},
   "source": [
    "### Make a series of unique list of hashtags"
   ]
  },
  {
   "cell_type": "code",
   "execution_count": null,
   "metadata": {},
   "outputs": [],
   "source": [
    "import itertools\n",
    "l = df.description.str.findall(r'#.*?(?=\\s|$)').tolist()\n",
    "h = set(itertools.chain.from_iterable(l))\n",
    "p = pd.Series(list(h))"
   ]
  },
  {
   "cell_type": "markdown",
   "metadata": {},
   "source": [
    "### Which is the frequency of each hashtag?\n",
    "Hint: Take a look at examples under the [apply](https://pandas.pydata.org/pandas-docs/stable/generated/pandas.DataFrame.apply.html) function."
   ]
  },
  {
   "cell_type": "code",
   "execution_count": 32,
   "metadata": {},
   "outputs": [
    {
     "data": {
      "text/plain": [
       "defaultdict(int,\n",
       "            {'#asyncio': 8,\n",
       "             '#data_science': 1,\n",
       "             '#jinja': 1,\n",
       "             '#bootstrap': 3,\n",
       "             '#cft': 2,\n",
       "             '#pandas': 6,\n",
       "             '#visualization': 3,\n",
       "             '#regular_expression': 1})"
      ]
     },
     "execution_count": 32,
     "metadata": {},
     "output_type": "execute_result"
    }
   ],
   "source": [
    "from collections import defaultdict\n",
    "d=defaultdict(int)\n",
    "ht=df.description.str.findall(r'#.*?(?=\\s|$)')\n",
    "\n",
    "def count(x):\n",
    "    for y in x:\n",
    "        d[y]+=1\n",
    "ht.apply(lambda x:count(x))\n",
    "d"
   ]
  },
  {
   "cell_type": "markdown",
   "metadata": {},
   "source": [
    "### Which hash tag consumes the most amount of time?"
   ]
  },
  {
   "cell_type": "markdown",
   "metadata": {},
   "source": [
    "This solution to this one is similar to the one above. Keep in mind that you need to handle the conditions where there are no hashtags in a description."
   ]
  },
  {
   "cell_type": "code",
   "execution_count": 33,
   "metadata": {},
   "outputs": [
    {
     "data": {
      "text/plain": [
       "defaultdict(int,\n",
       "            {'#asyncio': 240,\n",
       "             '#data_science': 30,\n",
       "             '#jinja': 30,\n",
       "             '#bootstrap': 65,\n",
       "             '#cft': 50,\n",
       "             '#pandas': 85,\n",
       "             '#visualization': 50,\n",
       "             '#regular_expression': 10})"
      ]
     },
     "execution_count": 33,
     "metadata": {},
     "output_type": "execute_result"
    }
   ],
   "source": [
    "f=pd.DataFrame([df['mins'], ht])\n",
    "\n",
    "c=defaultdict(int)\n",
    "def sum_minutes(mins, hashtags):\n",
    "    t = mins//len(hashtags) if len(hashtags) else 0\n",
    "    for p in hashtags:\n",
    "        c[p]+= t\n",
    "\n",
    "f.apply(lambda x:sum_minutes(*x.tolist()))\n",
    "c"
   ]
  },
  {
   "cell_type": "markdown",
   "metadata": {},
   "source": [
    "## Plotting wih Altair\n",
    "\n",
    "Visualization is a powerful technique to find patterns in a dataset. It is also useful for communicate the findings of an analysis of a dataset. In the next section we will answer some simple questions about our dataset using visualization. While `matplotlib` is one of the most successful packages for the purpose, we will be using [`Altair`](https://altair-viz.github.io/) that provides a simple yet powerful declarative way of building charts.\n",
    "\n",
    "Think of it as SQL, but for charts."
   ]
  },
  {
   "cell_type": "code",
   "execution_count": 34,
   "metadata": {},
   "outputs": [
    {
     "data": {
      "text/plain": [
       "RendererRegistry.enable('notebook')"
      ]
     },
     "execution_count": 34,
     "metadata": {},
     "output_type": "execute_result"
    }
   ],
   "source": [
    "import altair as alt\n",
    "alt.renderers.enable('notebook')"
   ]
  },
  {
   "cell_type": "markdown",
   "metadata": {},
   "source": [
    "We need to enable the renderer based on which environment we are using - `notebook` for jupyter notebooks, `jupterlab` for jupyterlab etc."
   ]
  },
  {
   "cell_type": "markdown",
   "metadata": {},
   "source": [
    "### What are the frequencies of each task type?\n",
    "\n",
    "Lets try to answer the same question we solved above, but this time using `altair`.\n",
    "\n",
    "Below is a `bar diagram` of our data. Lets break down what is going on in the function. From the official documentation:\n",
    "\n",
    "> The key to creating meaningful visualizations is to map properties of the data to visual properties in order to effectively communicate information. In Altair, this mapping of visual properties to data columns is referred to as\n",
    "> an encoding, and is most often expressed through the Chart.encode() method.\n",
    "\n",
    "Here are the 3 steps for building charts in altair\n",
    "\n",
    "- pass your data to alt.Chart\n",
    "```python\n",
    "alt.Chart(df)\n",
    "```\n",
    "- select the type of chart you want to plot\n",
    "```python    \n",
    "alt.Chart(df).mark_bar()\n",
    "```\n",
    "- `encode` map the property of the data to visual properties\n",
    "```python\n",
    "alt.Chart(df).mark_bar().encode(\n",
    "    y='task'      # map the y axis to df['task']\n",
    "    x='count()'   # map the x axis to aggregate function of count defined in altair\n",
    "    color='task') # map the color to df['task']\n",
    "```"
   ]
  },
  {
   "cell_type": "code",
   "execution_count": 35,
   "metadata": {},
   "outputs": [
    {
     "data": {
      "application/javascript": [
       "var spec = {\"config\": {\"view\": {\"width\": 400, \"height\": 300}}, \"data\": {\"name\": \"data-de0ed3cd9ddf6036ffea31331390ce1e\"}, \"mark\": \"bar\", \"encoding\": {\"color\": {\"type\": \"nominal\", \"field\": \"task\"}, \"x\": {\"type\": \"quantitative\", \"aggregate\": \"count\"}, \"y\": {\"type\": \"nominal\", \"field\": \"task\"}}, \"$schema\": \"https://vega.github.io/schema/vega-lite/v2.6.0.json\", \"datasets\": {\"data-de0ed3cd9ddf6036ffea31331390ce1e\": [{\"id\": 1, \"task\": \"b\", \"description\": \"#asyncio blog post completed\", \"timestamp\": \"2018-10-12T23:00:56.864056\", \"mins\": 30, \"done\": true}, {\"id\": 2, \"task\": \"b\", \"description\": \"#asyncio is really completicated\", \"timestamp\": \"2018-10-12T23:01:21.875416\", \"mins\": 30, \"done\": true}, {\"id\": 3, \"task\": \"b\", \"description\": \"#data_science is really completicated\", \"timestamp\": \"2018-10-12T23:03:26.697286\", \"mins\": 30, \"done\": true}, {\"id\": 4, \"task\": \"c\", \"description\": \"#asyncio completed stuff\", \"timestamp\": \"2018-10-12T23:07:19.131405\", \"mins\": 30, \"done\": true}, {\"id\": 5, \"task\": \"m\", \"description\": \"#asyncio ask some questions\", \"timestamp\": \"2018-10-12T23:08:09.363419\", \"mins\": 30, \"done\": true}, {\"id\": 6, \"task\": \"m\", \"description\": \"#asyncio got the answerss\", \"timestamp\": \"2018-10-12T23:08:20.690693\", \"mins\": 30, \"done\": true}, {\"id\": 7, \"task\": \"d\", \"description\": \"#asyncio got the answerss\", \"timestamp\": \"2018-10-12T23:08:37.566848\", \"mins\": 30, \"done\": true}, {\"id\": 8, \"task\": \"r\", \"description\": \"#asyncio looking into docs\", \"timestamp\": \"2018-10-12T23:08:56.649820\", \"mins\": 30, \"done\": true}, {\"id\": 9, \"task\": \"p\", \"description\": \"#asyncio coding in the stuff\", \"timestamp\": \"2018-10-12T23:10:12.633999\", \"mins\": 30, \"done\": true}, {\"id\": 10, \"task\": \"d\", \"description\": \"#jinja trying to figure app_context\", \"timestamp\": \"2018-10-14T09:07:52.702126\", \"mins\": 30, \"done\": true}, {\"id\": 11, \"task\": \"d\", \"description\": \"#bootstrap cards how to make cards cliackable\", \"timestamp\": \"2018-10-14T09:08:38.856013\", \"mins\": 30, \"done\": true}, {\"id\": 12, \"task\": \"d\", \"description\": \"#bootstrap figuring out how to integrate wtforms\", \"timestamp\": \"2018-10-15T19:05:23.955170\", \"mins\": 30, \"done\": true}, {\"id\": 13, \"task\": \"d\", \"description\": \"#bootstrap trying to get form alignment working\", \"timestamp\": \"2018-10-15T19:07:06.278395\", \"mins\": 5, \"done\": true}, {\"id\": 14, \"task\": \"d\", \"description\": \"#cft trying to figure how to add read replica\", \"timestamp\": \"2018-10-21T08:02:29.179643\", \"mins\": 20, \"done\": true}, {\"id\": 15, \"task\": \"r\", \"description\": \"#cft read through cloud formation docs to understand how to create read replica\", \"timestamp\": \"2018-10-21T09:08:42.564314\", \"mins\": 30, \"done\": true}, {\"id\": 16, \"task\": \"r\", \"description\": \"#pandas tutorial for timeseries analysis\", \"timestamp\": \"2018-11-03T09:59:59.886021\", \"mins\": 20, \"done\": true}, {\"id\": 17, \"task\": \"r\", \"description\": \"#pandas fixing matplotlib errors needed restarting jupyter kernel after pip install\", \"timestamp\": \"2018-11-03T10:07:50.354188\", \"mins\": 5, \"done\": true}, {\"id\": 18, \"task\": \"d\", \"description\": \"#pandas converting timestamp to datetime64\", \"timestamp\": \"2018-11-03T10:54:21.074068\", \"mins\": 10, \"done\": true}, {\"id\": 19, \"task\": \"r\", \"description\": \"timeseries data visualization with vega, vega-lite and altair\", \"timestamp\": \"2018-11-03T11:12:53.290185\", \"mins\": 10, \"done\": true}, {\"id\": 20, \"task\": \"r\", \"description\": \"#visualization\", \"timestamp\": \"2018-11-03T11:59:11.041432\", \"mins\": 10, \"done\": true}, {\"id\": 21, \"task\": \"c\", \"description\": \"#pandas which tasks take up most time\", \"timestamp\": \"2018-11-03T18:05:39.199989\", \"mins\": 20, \"done\": true}, {\"id\": 22, \"task\": \"c\", \"description\": \"#pandas #regular_expression which tasks take up most time\", \"timestamp\": \"2018-11-03T18:08:00.601788\", \"mins\": 20, \"done\": true}, {\"id\": 23, \"task\": \"c\", \"description\": \"#pandas apply function to a dataframe\", \"timestamp\": \"2018-11-04T05:39:13.803043\", \"mins\": 20, \"done\": true}, {\"id\": 24, \"task\": \"m\", \"description\": \"checking in with mentor\", \"timestamp\": \"2018-11-04T05:43:03.523862\", \"mins\": 20, \"done\": true}, {\"id\": 25, \"task\": \"d\", \"description\": \"stupid typo-ed a comma!\", \"timestamp\": \"2018-11-04T06:07:05.694163\", \"mins\": 20, \"done\": true}, {\"id\": 26, \"task\": \"d\", \"description\": \"#visualization trying to figure string type for altair\", \"timestamp\": \"2018-11-04T07:00:06.893573\", \"mins\": 20, \"done\": true}, {\"id\": 27, \"task\": \"c\", \"description\": \"#visualization barchart created\", \"timestamp\": \"2018-11-04T07:55:20.632394\", \"mins\": 20, \"done\": true}]}};\n",
       "var opt = {};\n",
       "var type = \"vega-lite\";\n",
       "var id = \"fa9ec279-3b82-4ef9-8f5b-6eb402a20ceb\";\n",
       "\n",
       "var output_area = this;\n",
       "\n",
       "require([\"nbextensions/jupyter-vega/index\"], function(vega) {\n",
       "  var target = document.createElement(\"div\");\n",
       "  target.id = id;\n",
       "  target.className = \"vega-embed\";\n",
       "\n",
       "  var style = document.createElement(\"style\");\n",
       "  style.textContent = [\n",
       "    \".vega-embed .error p {\",\n",
       "    \"  color: firebrick;\",\n",
       "    \"  font-size: 14px;\",\n",
       "    \"}\",\n",
       "  ].join(\"\\\\n\");\n",
       "\n",
       "  // element is a jQuery wrapped DOM element inside the output area\n",
       "  // see http://ipython.readthedocs.io/en/stable/api/generated/\\\n",
       "  // IPython.display.html#IPython.display.Javascript.__init__\n",
       "  element[0].appendChild(target);\n",
       "  element[0].appendChild(style);\n",
       "\n",
       "  vega.render(\"#\" + id, spec, type, opt, output_area);\n",
       "}, function (err) {\n",
       "  if (err.requireType !== \"scripterror\") {\n",
       "    throw(err);\n",
       "  }\n",
       "});\n"
      ],
      "text/plain": [
       "<vega.vegalite.VegaLite at 0x10b47bfd0>"
      ]
     },
     "metadata": {
      "jupyter-vega": "#fa9ec279-3b82-4ef9-8f5b-6eb402a20ceb"
     },
     "output_type": "display_data"
    },
    {
     "data": {
      "text/plain": []
     },
     "execution_count": 35,
     "metadata": {},
     "output_type": "execute_result"
    },
    {
     "data": {
      "image/png": "[encoded data removed]"
     },
     "metadata": {
      "jupyter-vega": "#fa9ec279-3b82-4ef9-8f5b-6eb402a20ceb"
     },
     "output_type": "display_data"
    }
   ],
   "source": [
    "alt.Chart(df).mark_bar().encode(\n",
    "    y='task',\n",
    "    x='count()',\n",
    "    color='task'\n",
    ")"
   ]
  },
  {
   "cell_type": "markdown",
   "metadata": {},
   "source": [
    "You can choose different chart types by changing `mark_bar` to `mark_point`, `mark_square`, `mark_geoshape` etc. as applicable for your data. Full list is [here](https://altair-viz.github.io/user_guide/marks.html)"
   ]
  },
  {
   "cell_type": "markdown",
   "metadata": {},
   "source": [
    "### What are the frequencies of each task type per day?"
   ]
  },
  {
   "cell_type": "code",
   "execution_count": null,
   "metadata": {},
   "outputs": [],
   "source": []
  },
  {
   "cell_type": "code",
   "execution_count": null,
   "metadata": {},
   "outputs": [],
   "source": []
  },
  {
   "cell_type": "markdown",
   "metadata": {},
   "source": [
    "### What are the amount of time spent per task type?\n",
    "Lets get started with checking how much time has been spent in each task type."
   ]
  },
  {
   "cell_type": "code",
   "execution_count": 36,
   "metadata": {},
   "outputs": [
    {
     "data": {
      "application/javascript": [
       "var spec = {\"config\": {\"view\": {\"width\": 400, \"height\": 300}}, \"data\": {\"name\": \"data-de0ed3cd9ddf6036ffea31331390ce1e\"}, \"mark\": \"bar\", \"encoding\": {\"color\": {\"type\": \"nominal\", \"field\": \"task\"}, \"x\": {\"type\": \"quantitative\", \"aggregate\": \"sum\", \"field\": \"mins\"}, \"y\": {\"type\": \"nominal\", \"field\": \"task\"}}, \"$schema\": \"https://vega.github.io/schema/vega-lite/v2.6.0.json\", \"datasets\": {\"data-de0ed3cd9ddf6036ffea31331390ce1e\": [{\"id\": 1, \"task\": \"b\", \"description\": \"#asyncio blog post completed\", \"timestamp\": \"2018-10-12T23:00:56.864056\", \"mins\": 30, \"done\": true}, {\"id\": 2, \"task\": \"b\", \"description\": \"#asyncio is really completicated\", \"timestamp\": \"2018-10-12T23:01:21.875416\", \"mins\": 30, \"done\": true}, {\"id\": 3, \"task\": \"b\", \"description\": \"#data_science is really completicated\", \"timestamp\": \"2018-10-12T23:03:26.697286\", \"mins\": 30, \"done\": true}, {\"id\": 4, \"task\": \"c\", \"description\": \"#asyncio completed stuff\", \"timestamp\": \"2018-10-12T23:07:19.131405\", \"mins\": 30, \"done\": true}, {\"id\": 5, \"task\": \"m\", \"description\": \"#asyncio ask some questions\", \"timestamp\": \"2018-10-12T23:08:09.363419\", \"mins\": 30, \"done\": true}, {\"id\": 6, \"task\": \"m\", \"description\": \"#asyncio got the answerss\", \"timestamp\": \"2018-10-12T23:08:20.690693\", \"mins\": 30, \"done\": true}, {\"id\": 7, \"task\": \"d\", \"description\": \"#asyncio got the answerss\", \"timestamp\": \"2018-10-12T23:08:37.566848\", \"mins\": 30, \"done\": true}, {\"id\": 8, \"task\": \"r\", \"description\": \"#asyncio looking into docs\", \"timestamp\": \"2018-10-12T23:08:56.649820\", \"mins\": 30, \"done\": true}, {\"id\": 9, \"task\": \"p\", \"description\": \"#asyncio coding in the stuff\", \"timestamp\": \"2018-10-12T23:10:12.633999\", \"mins\": 30, \"done\": true}, {\"id\": 10, \"task\": \"d\", \"description\": \"#jinja trying to figure app_context\", \"timestamp\": \"2018-10-14T09:07:52.702126\", \"mins\": 30, \"done\": true}, {\"id\": 11, \"task\": \"d\", \"description\": \"#bootstrap cards how to make cards cliackable\", \"timestamp\": \"2018-10-14T09:08:38.856013\", \"mins\": 30, \"done\": true}, {\"id\": 12, \"task\": \"d\", \"description\": \"#bootstrap figuring out how to integrate wtforms\", \"timestamp\": \"2018-10-15T19:05:23.955170\", \"mins\": 30, \"done\": true}, {\"id\": 13, \"task\": \"d\", \"description\": \"#bootstrap trying to get form alignment working\", \"timestamp\": \"2018-10-15T19:07:06.278395\", \"mins\": 5, \"done\": true}, {\"id\": 14, \"task\": \"d\", \"description\": \"#cft trying to figure how to add read replica\", \"timestamp\": \"2018-10-21T08:02:29.179643\", \"mins\": 20, \"done\": true}, {\"id\": 15, \"task\": \"r\", \"description\": \"#cft read through cloud formation docs to understand how to create read replica\", \"timestamp\": \"2018-10-21T09:08:42.564314\", \"mins\": 30, \"done\": true}, {\"id\": 16, \"task\": \"r\", \"description\": \"#pandas tutorial for timeseries analysis\", \"timestamp\": \"2018-11-03T09:59:59.886021\", \"mins\": 20, \"done\": true}, {\"id\": 17, \"task\": \"r\", \"description\": \"#pandas fixing matplotlib errors needed restarting jupyter kernel after pip install\", \"timestamp\": \"2018-11-03T10:07:50.354188\", \"mins\": 5, \"done\": true}, {\"id\": 18, \"task\": \"d\", \"description\": \"#pandas converting timestamp to datetime64\", \"timestamp\": \"2018-11-03T10:54:21.074068\", \"mins\": 10, \"done\": true}, {\"id\": 19, \"task\": \"r\", \"description\": \"timeseries data visualization with vega, vega-lite and altair\", \"timestamp\": \"2018-11-03T11:12:53.290185\", \"mins\": 10, \"done\": true}, {\"id\": 20, \"task\": \"r\", \"description\": \"#visualization\", \"timestamp\": \"2018-11-03T11:59:11.041432\", \"mins\": 10, \"done\": true}, {\"id\": 21, \"task\": \"c\", \"description\": \"#pandas which tasks take up most time\", \"timestamp\": \"2018-11-03T18:05:39.199989\", \"mins\": 20, \"done\": true}, {\"id\": 22, \"task\": \"c\", \"description\": \"#pandas #regular_expression which tasks take up most time\", \"timestamp\": \"2018-11-03T18:08:00.601788\", \"mins\": 20, \"done\": true}, {\"id\": 23, \"task\": \"c\", \"description\": \"#pandas apply function to a dataframe\", \"timestamp\": \"2018-11-04T05:39:13.803043\", \"mins\": 20, \"done\": true}, {\"id\": 24, \"task\": \"m\", \"description\": \"checking in with mentor\", \"timestamp\": \"2018-11-04T05:43:03.523862\", \"mins\": 20, \"done\": true}, {\"id\": 25, \"task\": \"d\", \"description\": \"stupid typo-ed a comma!\", \"timestamp\": \"2018-11-04T06:07:05.694163\", \"mins\": 20, \"done\": true}, {\"id\": 26, \"task\": \"d\", \"description\": \"#visualization trying to figure string type for altair\", \"timestamp\": \"2018-11-04T07:00:06.893573\", \"mins\": 20, \"done\": true}, {\"id\": 27, \"task\": \"c\", \"description\": \"#visualization barchart created\", \"timestamp\": \"2018-11-04T07:55:20.632394\", \"mins\": 20, \"done\": true}]}};\n",
       "var opt = {};\n",
       "var type = \"vega-lite\";\n",
       "var id = \"f267d386-d86d-44a6-bcd6-bfec6e4d8995\";\n",
       "\n",
       "var output_area = this;\n",
       "\n",
       "require([\"nbextensions/jupyter-vega/index\"], function(vega) {\n",
       "  var target = document.createElement(\"div\");\n",
       "  target.id = id;\n",
       "  target.className = \"vega-embed\";\n",
       "\n",
       "  var style = document.createElement(\"style\");\n",
       "  style.textContent = [\n",
       "    \".vega-embed .error p {\",\n",
       "    \"  color: firebrick;\",\n",
       "    \"  font-size: 14px;\",\n",
       "    \"}\",\n",
       "  ].join(\"\\\\n\");\n",
       "\n",
       "  // element is a jQuery wrapped DOM element inside the output area\n",
       "  // see http://ipython.readthedocs.io/en/stable/api/generated/\\\n",
       "  // IPython.display.html#IPython.display.Javascript.__init__\n",
       "  element[0].appendChild(target);\n",
       "  element[0].appendChild(style);\n",
       "\n",
       "  vega.render(\"#\" + id, spec, type, opt, output_area);\n",
       "}, function (err) {\n",
       "  if (err.requireType !== \"scripterror\") {\n",
       "    throw(err);\n",
       "  }\n",
       "});\n"
      ],
      "text/plain": [
       "<vega.vegalite.VegaLite at 0x10b477278>"
      ]
     },
     "metadata": {
      "jupyter-vega": "#f267d386-d86d-44a6-bcd6-bfec6e4d8995"
     },
     "output_type": "display_data"
    },
    {
     "data": {
      "text/plain": []
     },
     "execution_count": 36,
     "metadata": {},
     "output_type": "execute_result"
    },
    {
     "data": {
      "image/png": "[encoded data removed]"
     },
     "metadata": {
      "jupyter-vega": "#f267d386-d86d-44a6-bcd6-bfec6e4d8995"
     },
     "output_type": "display_data"
    }
   ],
   "source": [
    "chart_mins = alt.Chart(df).mark_bar().encode(\n",
    "    y='task',\n",
    "    x='sum(mins)',\n",
    "    color='task' \n",
    ")\n",
    "chart_mins"
   ]
  },
  {
   "cell_type": "markdown",
   "metadata": {},
   "source": [
    "### Align these charts"
   ]
  },
  {
   "cell_type": "markdown",
   "metadata": {},
   "source": [
    "Altair makes it easy to build [compound charts](https://altair-viz.github.io/user_guide/compound_charts.html) by combining multiple charts. Arrange the charts above vertically and horizontally."
   ]
  },
  {
   "cell_type": "code",
   "execution_count": null,
   "metadata": {},
   "outputs": [],
   "source": []
  },
  {
   "cell_type": "code",
   "execution_count": null,
   "metadata": {},
   "outputs": [],
   "source": []
  },
  {
   "cell_type": "markdown",
   "metadata": {},
   "source": [
    "## Feedback"
   ]
  },
  {
   "cell_type": "markdown",
   "metadata": {},
   "source": [
    "Thanks for attending this project night. We put in a lot of effort to make this useful for you. However, we can not make it better, unless we hear back from you on what you want and collect data to make changes. Please take a few moments to fill in the small form below and help us improve it.\n",
    "PLease provide your feedback here."
   ]
  },
  {
   "cell_type": "code",
   "execution_count": 10,
   "metadata": {},
   "outputs": [
    {
     "data": {
      "image/png": "[encoded data removed]",
      "text/plain": [
       "<IPython.core.display.Image object>"
      ]
     },
     "execution_count": 10,
     "metadata": {},
     "output_type": "execute_result"
    }
   ],
   "source": [
    "from IPython.display import Image\n",
    "Image(filename='../../docs/feedback.png')"
   ]
  }
 ],
 "metadata": {
  "kernelspec": {
   "display_name": "Python 3",
   "language": "python",
   "name": "python3"
  },
  "language_info": {
   "codemirror_mode": {
    "name": "ipython",
    "version": 3
   },
   "file_extension": ".py",
   "mimetype": "text/x-python",
   "name": "python",
   "nbconvert_exporter": "python",
   "pygments_lexer": "ipython3",
   "version": "3.6.1"
  },
  "toc": {
   "base_numbering": 1,
   "nav_menu": {},
   "number_sections": true,
   "sideBar": true,
   "skip_h1_title": false,
   "title_cell": "Table of Contents",
   "title_sidebar": "Contents",
   "toc_cell": false,
   "toc_position": {
    "height": "626px",
    "left": "61px",
    "top": "135.117px",
    "width": "415px"
   },
   "toc_section_display": true,
   "toc_window_display": true
  }
 },
 "nbformat": 4,
 "nbformat_minor": 2
}
