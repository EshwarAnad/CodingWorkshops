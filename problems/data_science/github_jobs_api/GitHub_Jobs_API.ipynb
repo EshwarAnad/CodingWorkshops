{
  "nbformat": 4,
  "nbformat_minor": 0,
  "metadata": {
    "colab": {
      "name": "GitHub_Jobs_API.ipynb",
      "version": "0.3.2",
      "provenance": [],
      "collapsed_sections": []
    },
    "kernelspec": {
      "name": "python3",
      "display_name": "Python 3"
    }
  },
  "cells": [
    {
      "cell_type": "markdown",
      "metadata": {
        "id": "7c60s40qUi9h",
        "colab_type": "text"
      },
      "source": [
        "# Get and interpret GitHub jobs data\n",
        "\n",
        "_(Skip to **Challenge 3** if you came here from the ChiPy Coding Workshops readme)_ This Notebook acesses the [GitHub Jobs page](https://jobs.github.com) API for a first look at data acqusition and analysis through web APIs.\n",
        "\n",
        "Tonight's project uses the very popular Python HTTP library [requests](https://2.python-requests.org/en/master/). You will explore the data in the jobs API with the intent of learning something about the current job market for devs. There are a ton of caveats here: for example,\n",
        "\n",
        "* Who chooses to post to GitHub Jobs? Are they representative of the overall population?\n",
        "* How old are the postings?\n",
        "* Is it safe to extrapolate statistics to the country? to Illinois? to Chicago?\n",
        "\n",
        "\n",
        "## Side note\n",
        "For my own long-term employment I like to keep an eye on what skills and roles are in demand. Taking multiple snapshots like this over the year can give a sense of when companies like to hire, and for what -- Regional variation and your geographic preferences may be worth considering.\n",
        "\n",
        "\n",
        "## Challenge 2\n",
        "At this point hopefully you wrote your own code to get the data. Feel free to paste that in this notebook. (we're using Google Colab, a Google-specific Jupyter notebook, to avoid installing plotting libraries to everyone's different environment.)\n",
        "\n",
        "\n",
        "## Setup\n",
        "You may like this cool library UpsetPlot, a Python version of [Caleydo's UpsetPlot](https://caleydo.org/tools/upset/). It allows you to plot multiple set intersections (like a Venn Diagram on steroids) -- I thought it might be useful for you here so it's `!pip installed` at beginning of the notebook (the exclamation point in the context of a Google Colab notebook will run this command in the shell that is running underneath the Notebook environment.)\n",
        "\n",
        "These other libraries are suggestions...do what you want!"
      ]
    },
    {
      "cell_type": "code",
      "metadata": {
        "id": "-llKrpVtGQYR",
        "colab_type": "code",
        "colab": {}
      },
      "source": [
        "!pip install --quiet upsetplot\n",
        "\n",
        "# Python standard libraries\n",
        "import json  # Just to catch the JSONDecodeError\n",
        "import re\n",
        "from collections import Counter, namedtuple\n",
        "\n",
        "import requests"
      ],
      "execution_count": 0,
      "outputs": []
    },
    {
      "cell_type": "markdown",
      "metadata": {
        "id": "tPaDV9RHPzD6",
        "colab_type": "text"
      },
      "source": [
        "\n",
        "\n",
        "We can get straight at it:"
      ]
    },
    {
      "cell_type": "code",
      "metadata": {
        "id": "SBPV8R4ANEfH",
        "colab_type": "code",
        "outputId": "b625dcf4-1336-457c-8743-bfb92a3407ee",
        "colab": {
          "base_uri": "https://localhost:8080/",
          "height": 139
        }
      },
      "source": [
        "# Chicago\n",
        "data = requests.get(\"https://jobs.github.com/positions.json?&location=Chicago\").json()\n",
        "print(f\"{len(data)} Chicago jobs found:\\n  \", \", \".join(d[\"title\"] for d in data))\n",
        "\n",
        "# Illinois\n",
        "data = requests.get(\"https://jobs.github.com/positions.json?&location=Illinois\").json()\n",
        "print(f\"{len(data)} Illinois jobs found:\\n  \", \", \".join(d[\"title\"] for d in data))\n",
        "\n",
        "# USA\n",
        "i = 0\n",
        "results = []\n",
        "while True:\n",
        "    url = f\"https://jobs.github.com/positions.json?&location=usa&page={i}\"\n",
        "    i = i + 1\n",
        "    try:\n",
        "        data = requests.get(url).json()\n",
        "        results.extend(data)\n",
        "    except json.decoder.JSONDecodeError:\n",
        "        data = []\n",
        "    if len(data) < 50 or len(results) > 1000:\n",
        "        break  # Finished all pulls\n",
        "        \n",
        "print(f\"\\nPulled {len(results)} U.S. positions.\")"
      ],
      "execution_count": 4,
      "outputs": [
        {
          "output_type": "stream",
          "text": [
            "8 Chicago jobs found:\n",
            "   Salesforce Engineer, Full Stack Ruby Developer, Full Stack Software Engineer, Solutions Engineer, Lead Full Stack Web Engineer, .Net/Azure Developer , Front End Developer, Senior Python Engineer\n",
            "8 Illinois jobs found:\n",
            "   Salesforce Engineer, Full Stack Ruby Developer, Full Stack Software Engineer, Solutions Engineer, Lead Full Stack Web Engineer, .Net/Azure Developer , Front End Developer, Senior Python Engineer\n",
            "\n",
            "Pulled 199 U.S. positions.\n"
          ],
          "name": "stdout"
        }
      ]
    },
    {
      "cell_type": "markdown",
      "metadata": {
        "id": "68UX1RHfRtQx",
        "colab_type": "text"
      },
      "source": [
        "### Try walking through the dataset\n",
        "Like what's there?"
      ]
    },
    {
      "cell_type": "code",
      "metadata": {
        "id": "xfv-NQBiRupk",
        "colab_type": "code",
        "colab": {
          "base_uri": "https://localhost:8080/",
          "height": 173
        },
        "outputId": "3a9eaca3-a0a1-42c0-b113-2c9aab0f87c5"
      },
      "source": [
        "print(\"The dictionary keys\\n\" + (\"*\" * 20))\n",
        "print(results[0].keys())\n",
        "\n",
        "print(\"\\n\\nCompany that's hiring\\n\" + (\"*\" * 20))\n",
        "print(Counter(result['company'] for result in results).most_common())"
      ],
      "execution_count": 5,
      "outputs": [
        {
          "output_type": "stream",
          "text": [
            "The dictionary keys\n",
            "********************\n",
            "dict_keys(['id', 'type', 'url', 'created_at', 'company', 'company_url', 'location', 'title', 'description', 'how_to_apply', 'company_logo'])\n",
            "\n",
            "\n",
            "Company that's hiring\n",
            "********************\n",
            "[('Bloom Insurance', 12), ('Apple Inc.', 11), ('Knotch', 6), ('Livongo', 6), ('Game Closure', 6), ('Leia Inc.', 4), ('PIMCO', 4), ('OppLoans', 4), ('Achievement Network (ANet)', 4), ('NinthDecimal', 4), ('The Rock Creek Group', 4), ('Avanade', 3), ('Thorlabs, Inc.', 3), ('UtopiaCompression Corporation', 2), ('charter solutions', 2), ('Visa', 2), ('WHRO Public Media', 2), ('CircleCI', 2), ('CrowdTwist', 2), ('MRS Electronic, Inc.', 2), ('Fortitude Development', 2), ('American Physical Society', 2), ('Aligned Meetings', 2), ('one-G simulation', 2), ('Working Title Co.', 2), ('Expeditors', 2), ('BODIS', 2), ('Arable Labs ', 2), ('TrueMotion', 2), ('CU Direct', 2), ('Exclamation Labs', 2), ('InQuest', 2), ('Veo Robotics', 2), ('2ULaundry', 2), ('Acadian Asset Management', 2), ('The Atlantic', 2), ('Constructive', 2), ('REPAY - Realtime Electronic Payments', 2), ('PlayVS', 2), ('Jane Street', 2), ('Aiva Inc', 1), ('Netzstrategen', 1), ('Planned Parenthood Federation of America', 1), ('leadPops, Inc.', 1), ('Squishymedia, Inc.', 1), ('Georgetown University Office of Advancement', 1), ('Sharethrough', 1), ('Motion Picture Industry Pension and Health Plan', 1), ('BentoBox', 1), ('New York University ', 1), ('BigSpring', 1), ('Futrli', 1), ('Futrli ', 1), ('Climate Central', 1), ('Otus', 1), ('New Visions for Public Schools', 1), ('Luckie & Company', 1), ('RockCreek', 1), ('Sub Rosa', 1), ('Motive Interactive', 1), ('QDStaff', 1), ('Fullstack Academy', 1), ('Prezi', 1), ('Prosek Partners', 1), ('Simons Foundation', 1), ('Aon Cyber Solutions', 1), ('Podomaatic', 1), ('Podomatic', 1), ('The Franklin Report', 1), ('Target', 1), ('SunteckTTS', 1), ('Headspring', 1), ('NBCUniversal', 1), ('Signature Consulting Group', 1), ('Union Street Media', 1), ('Autodesk', 1), ('iPhone Photography School', 1), ('Agilent', 1), ('Rational Consulting', 1), ('Sesame', 1), ('BlueVine', 1), ('New York University', 1), ('University of Iowa Health Care', 1), ('Snapfish', 1), ('Mesosphere', 1), ('Gatekeeper', 1), ('WHQ', 1), ('Microsoft', 1), ('Cortex Building Intelligence', 1), ('Patron Empowerment', 1), ('Martino Flynn', 1), ('Rifle Paper Co.', 1), ('Dock', 1), ('HireSpeak', 1), ('Shiftling', 1), ('Bio-Rad Laboratories', 1), ('playvs-inc', 1), ('Great West Casualty Company', 1), ('Traction', 1), ('MetaCommunications, Inc.', 1), ('Petal', 1), ('Stopwatch', 1), ('CommunityVenturePartners', 1), ('A Color Story', 1), ('Neya Systems LLC', 1), ('BlueWave Security, Inc.', 1), ('Hello Design', 1), ('Stride Consulting', 1), ('Susco Solutions', 1), ('Yardi Systems', 1), ('Squirro', 1), ('Reaktor', 1), ('Analytics Fire', 1), ('DevsData', 1)]\n"
          ],
          "name": "stdout"
        }
      ]
    },
    {
      "cell_type": "markdown",
      "metadata": {
        "id": "UcwLAOe3Nfh3",
        "colab_type": "text"
      },
      "source": [
        "### Looking for patterns\n",
        "\n",
        "- Simple string search for languages"
      ]
    },
    {
      "cell_type": "code",
      "metadata": {
        "id": "UxORmKYTNZGy",
        "colab_type": "code",
        "outputId": "4d816c01-1fd8-4f0b-b835-d06e5677ee2f",
        "colab": {
          "base_uri": "https://localhost:8080/",
          "height": 204
        }
      },
      "source": [
        "print(f\"{len(results)} total GitHub jobs\")\n",
        "\n",
        "print()\n",
        "print(\"*\" * 20)\n",
        "print(\"LANGUAGES -- with double counting\")\n",
        "    \n",
        "for language in (\"javascript\", \"python\", \"sql\", \"java\", \"c++\", \"scala\", \"ruby\"):\n",
        "    if language == \"java\":\n",
        "        total_jobs = len([r for r in results if language in r['description'].lower() and not \"javascript\" in r['description'].lower()])\n",
        "    else:\n",
        "        total_jobs = len([r for r in results if language in r['description'].lower()])\n",
        "    print(f\"{language}: {total_jobs} jobs ({total_jobs / len(results):.0%})\")\n"
      ],
      "execution_count": 6,
      "outputs": [
        {
          "output_type": "stream",
          "text": [
            "199 total GitHub jobs\n",
            "\n",
            "********************\n",
            "LANGUAGES -- with double counting\n",
            "javascript: 105 jobs (53%)\n",
            "python: 63 jobs (32%)\n",
            "sql: 97 jobs (49%)\n",
            "java: 20 jobs (10%)\n",
            "c++: 19 jobs (10%)\n",
            "scala: 58 jobs (29%)\n",
            "ruby: 32 jobs (16%)\n"
          ],
          "name": "stdout"
        }
      ]
    },
    {
      "cell_type": "markdown",
      "metadata": {
        "id": "aBOVAzN5GSDK",
        "colab_type": "text"
      },
      "source": [
        "### Try a really simple regex to guess what kind of role\n",
        "\n",
        "This list came from hours of manully looking at all the job listings to find common strings. No magic."
      ]
    },
    {
      "cell_type": "code",
      "metadata": {
        "id": "8BA_pGdOGPzF",
        "colab_type": "code",
        "colab": {
          "base_uri": "https://localhost:8080/",
          "height": 170
        },
        "outputId": "c2bc557c-b43d-43ab-880d-5e786d01e6e0"
      },
      "source": [
        "import re\n",
        "\n",
        "roles = [\n",
        "    (\"managers\", re.compile(\"(manager|director)\", re.IGNORECASE)),\n",
        "    (\"ops\", re.compile(\"dev.?ops\", re.IGNORECASE)),\n",
        "    (\"full stack\", re.compile(\"full.?stack\", re.IGNORECASE)),\n",
        "    (\"front end\", re.compile(\"(front.?end|php)\", re.IGNORECASE)),\n",
        "    (\"backend\", re.compile(\"(back.?end|sql)\", re.IGNORECASE)),\n",
        "    (\"quality\", re.compile(\"(q.?a|quality.a)\", re.IGNORECASE)),\n",
        "    (\"security\", re.compile(\"(security|devsec|opsec)\", re.IGNORECASE)),\n",
        "    (\"data science\", re.compile(\"(data.?scien|machine.?lear)\", re.IGNORECASE)),\n",
        "    (\"other dev\", re.compile(\".*\", re.IGNORECASE)),\n",
        "]\n",
        "\n",
        "\n",
        "by_roles = {k:[] for k,v in roles}\n",
        "for r in results:\n",
        "    role = next(role for role, regex in roles if regex.search(r['description']))\n",
        "    by_roles[role].append(r)\n",
        "  \n",
        "\n",
        "for role, jobs in by_roles.items():\n",
        "     print(f\"{role}: {len(jobs)} jobs  ({len(jobs) / len(results):.0%})\")\n",
        "  "
      ],
      "execution_count": 38,
      "outputs": [
        {
          "output_type": "stream",
          "text": [
            "managers: 57 jobs  (29%)\n",
            "ops: 12 jobs  (6%)\n",
            "full stack: 49 jobs  (25%)\n",
            "front end: 21 jobs  (11%)\n",
            "backend: 26 jobs  (13%)\n",
            "quality: 21 jobs  (11%)\n",
            "security: 2 jobs  (1%)\n",
            "data science: 0 jobs  (0%)\n",
            "other dev: 11 jobs  (6%)\n"
          ],
          "name": "stdout"
        }
      ]
    },
    {
      "cell_type": "markdown",
      "metadata": {
        "id": "AE55qEY_VFEE",
        "colab_type": "text"
      },
      "source": [
        "\n",
        "\n",
        "## Challenge 3\n",
        "Visualization! let's see what we can build...for example:"
      ]
    },
    {
      "cell_type": "code",
      "metadata": {
        "id": "DwIhFceTVEWt",
        "colab_type": "code",
        "colab": {}
      },
      "source": [
        "import pandas\n",
        "##\n",
        "# Here is the R version of upsetplot (from the original authors)\n",
        "#   https://cran.r-project.org/web/packages/UpSetR/vignettes/basic.usage.html\n",
        "import upsetplot"
      ],
      "execution_count": 0,
      "outputs": []
    },
    {
      "cell_type": "code",
      "metadata": {
        "id": "IQgG0iGmZOD3",
        "colab_type": "code",
        "colab": {
          "base_uri": "https://localhost:8080/",
          "height": 224
        },
        "outputId": "d6cde4f4-ac27-46e0-aef5-8d242808ea89"
      },
      "source": [
        "results[0]"
      ],
      "execution_count": 9,
      "outputs": [
        {
          "output_type": "execute_result",
          "data": {
            "text/plain": [
              "{'company': 'UtopiaCompression Corporation',\n",
              " 'company_logo': None,\n",
              " 'company_url': None,\n",
              " 'created_at': 'Wed Aug 14 23:57:29 UTC 2019',\n",
              " 'description': '<p>UtopiaCompression is in need of a C++ Software Engineer, with current U.S. work authorization, to support R&amp;D and product development in multiple areas, including:</p>\\n<ul>\\n<li>Computer vision;</li>\\n<li>Machine learning;</li>\\n<li>Control and estimation applications for the air and maritime domains.\\nThis role involves the implementation of state-of-the-art numerical algorithms on CPUs, GPUs, SoCs, and other embedded platforms.</li>\\n</ul>\\n<p>Basic Requirements</p>\\n<ul>\\n<li>BS/MS in Computer Science, Electrical Engineering, or related field;</li>\\n<li>3 or more years of industry experience as C++ developer;</li>\\n<li>Strong programming skills in Python and Golang;</li>\\n<li>Extensive development experience in Linux environments;</li>\\n<li>Experience with embedded platforms;</li>\\n<li>Currently authorized to work in the U.S.</li>\\n</ul>\\n<p>Desired Expertise/Experience</p>\\n<ul>\\n<li>Experience with libraries such as Boost, Eigen, HDF5, OpenCL;</li>\\n<li>GPU programming experience;</li>\\n<li>Experience in developing scalable web backend architectures;</li>\\n<li>Experience in computer vision, machine learning, control, image processing, detection, tracking, classification;</li>\\n<li>Hands-on experience with EO, IR, INS, IMU, GPS sensors.</li>\\n</ul>\\n<p>Who We Are\\nUtopiaCompression Corporation, based in the West-side of Los Angeles, is a leader in cutting-edge solutions for:</p>\\n<ul>\\n<li>Computer vision and machine learning, maritime surveillance, affective computing, and robotics;</li>\\n<li>Planning and control for autonomous systems;</li>\\n<li>Wireless communication networks;</li>\\n<li>Human-computer interaction for autonomous systems;</li>\\n<li>Deep learning;</li>\\n<li>Biomedical signal processing and data mining;</li>\\n<li>Intelligent tutoring systems.\\nWe offer a challenging and exciting environment to work on high-risk, high-reward technologies with the potential to bring about transformational changes to the state-of-the-art.</li>\\n</ul>\\n',\n",
              " 'how_to_apply': '<p>Email you resume to <a href=\"mailto:innovate@utopiacompression.com\">innovate@utopiacompression.com</a></p>\\n',\n",
              " 'id': '4ac60381-ab45-4284-84ab-abb5a9d446c3',\n",
              " 'location': 'Los Angeles',\n",
              " 'title': 'C++ Software Engineer',\n",
              " 'type': 'Full Time',\n",
              " 'url': 'https://jobs.github.com/positions/4ac60381-ab45-4284-84ab-abb5a9d446c3'}"
            ]
          },
          "metadata": {
            "tags": []
          },
          "execution_count": 9
        }
      ]
    },
    {
      "cell_type": "code",
      "metadata": {
        "id": "pc-bTiX1YuFt",
        "colab_type": "code",
        "colab": {
          "base_uri": "https://localhost:8080/",
          "height": 173
        },
        "outputId": "03f67deb-30bb-4ca8-8378-4d2ab3dc2c78"
      },
      "source": [
        "languages = sorted([\"javascript\", \"python\", \"sql\", \"c++\", \"scala\", \"ruby\"])\n",
        "language_pattern = re.compile(\"({})\".format(\"|\".join(re.escape(lang) for lang in languages)))\n",
        "\n",
        "index_names = [\"language\", \"company\", \"location\", \"title\"]\n",
        "Row = namedtuple(\"Row\", index_names)\n",
        "one_row_per_language = []\n",
        "\n",
        "for result in results:\n",
        "    for language in language_pattern.findall(result[\"description\"].lower()):\n",
        "        new_row = Row(language, result[\"company\"], result[\"location\"], result[\"title\"])\n",
        "        one_row_per_language.append(new_row)\n",
        "\n",
        "\n",
        "row_index = pandas.MultiIndex.from_tuples(one_row_per_language)\n",
        "occurrences = [1] * len(one_row_per_language)\n",
        "upsetplot_formatted_data = pandas.Series(occurrences, index=row_index)\n",
        "upsetplot_formatted_data.index.names = index_names\n",
        "\n",
        "# this was a pain. I made the data shape by following Jake VanderPlas\n",
        "# https://jakevdp.github.io/PythonDataScienceHandbook/03.05-hierarchical-indexing.html\n",
        "\n",
        "\n",
        "#for result in results:\n",
        "    \n",
        "        \n",
        "df = pandas.DataFrame(\n",
        "    {**dict.fromkeys(language_pattern.findall(row[\"description\"].lower()), True),\n",
        "     \"company\": row[\"company\"],\n",
        "     \"location\": row[\"location\"],\n",
        "     \"title\": row[\"title\"]\n",
        "    }\n",
        "    for row in results)\n",
        "df = df.fillna(False).set_index(languages)\n",
        "df.head(3)"
      ],
      "execution_count": 62,
      "outputs": [
        {
          "output_type": "execute_result",
          "data": {
            "text/html": [
              "<div>\n",
              "<style scoped>\n",
              "    .dataframe tbody tr th:only-of-type {\n",
              "        vertical-align: middle;\n",
              "    }\n",
              "\n",
              "    .dataframe tbody tr th {\n",
              "        vertical-align: top;\n",
              "    }\n",
              "\n",
              "    .dataframe thead th {\n",
              "        text-align: right;\n",
              "    }\n",
              "</style>\n",
              "<table border=\"1\" class=\"dataframe\">\n",
              "  <thead>\n",
              "    <tr style=\"text-align: right;\">\n",
              "      <th></th>\n",
              "      <th></th>\n",
              "      <th></th>\n",
              "      <th></th>\n",
              "      <th></th>\n",
              "      <th></th>\n",
              "      <th>company</th>\n",
              "      <th>location</th>\n",
              "      <th>title</th>\n",
              "    </tr>\n",
              "    <tr>\n",
              "      <th>c++</th>\n",
              "      <th>javascript</th>\n",
              "      <th>python</th>\n",
              "      <th>ruby</th>\n",
              "      <th>scala</th>\n",
              "      <th>sql</th>\n",
              "      <th></th>\n",
              "      <th></th>\n",
              "      <th></th>\n",
              "    </tr>\n",
              "  </thead>\n",
              "  <tbody>\n",
              "    <tr>\n",
              "      <th rowspan=\"2\" valign=\"top\">True</th>\n",
              "      <th rowspan=\"2\" valign=\"top\">False</th>\n",
              "      <th>True</th>\n",
              "      <th>False</th>\n",
              "      <th>True</th>\n",
              "      <th>False</th>\n",
              "      <td>UtopiaCompression Corporation</td>\n",
              "      <td>Los Angeles</td>\n",
              "      <td>C++ Software Engineer</td>\n",
              "    </tr>\n",
              "    <tr>\n",
              "      <th>False</th>\n",
              "      <th>False</th>\n",
              "      <th>False</th>\n",
              "      <th>False</th>\n",
              "      <td>Leia Inc.</td>\n",
              "      <td>Menlo Park</td>\n",
              "      <td>Software Engineer, Video, Front End</td>\n",
              "    </tr>\n",
              "    <tr>\n",
              "      <th>False</th>\n",
              "      <th>False</th>\n",
              "      <th>False</th>\n",
              "      <th>False</th>\n",
              "      <th>False</th>\n",
              "      <th>True</th>\n",
              "      <td>charter solutions</td>\n",
              "      <td>plymouth</td>\n",
              "      <td>FullStack Engineer - Jr. Level to Mid Level</td>\n",
              "    </tr>\n",
              "  </tbody>\n",
              "</table>\n",
              "</div>"
            ],
            "text/plain": [
              "                                                                 company  ...                                        title\n",
              "c++   javascript python ruby  scala sql                                   ...                                             \n",
              "True  False      True   False True  False  UtopiaCompression Corporation  ...                        C++ Software Engineer\n",
              "                 False  False False False                      Leia Inc.  ...          Software Engineer, Video, Front End\n",
              "False False      False  False False True               charter solutions  ...  FullStack Engineer - Jr. Level to Mid Level\n",
              "\n",
              "[3 rows x 3 columns]"
            ]
          },
          "metadata": {
            "tags": []
          },
          "execution_count": 62
        }
      ]
    },
    {
      "cell_type": "code",
      "metadata": {
        "id": "QG4lFvyTmwOd",
        "colab_type": "code",
        "colab": {
          "base_uri": "https://localhost:8080/",
          "height": 524
        },
        "outputId": "4e7c3b18-dbff-48a2-b306-0b243c259a0f"
      },
      "source": [
        "p = upsetplot.plot(\n",
        "    df,\n",
        "    element_size=50,  # point size of \"side of element\"\n",
        "    subset_size=\"count\",\n",
        "    sort_by=\"cardinality\"\n",
        ");\n",
        "\n",
        "p['intersections'].tick_params(labelsize=\"medium\")\n",
        "p['matrix'].tick_params(labelsize=\"medium\")\n",
        "#import matplotlib\n",
        "#from google.colab import files\n",
        "#current_figure = matplotlib.pyplot.gcf()\n",
        "#current_figure.savefig(\"github_jobs_languages_only.png\")\n",
        "#files.download(\"github_jobs_languages_only.png\")"
      ],
      "execution_count": 64,
      "outputs": [
        {
          "output_type": "display_data",
          "data": {
            "image/png": "[encoded data removed]",
            "text/plain": [
              "<Figure size 1808.88x600 with 4 Axes>"
            ]
          },
          "metadata": {
            "tags": []
          }
        }
      ]
    },
    {
      "cell_type": "markdown",
      "metadata": {
        "id": "BtWdoLe-NyD_",
        "colab_type": "text"
      },
      "source": [
        "# Library versions"
      ]
    },
    {
      "cell_type": "code",
      "metadata": {
        "id": "pgD7ZfByN1ta",
        "colab_type": "code",
        "outputId": "9e6955e7-f54a-42bb-efd2-b1a1e11ef97a",
        "colab": {
          "base_uri": "https://localhost:8080/",
          "height": 170
        }
      },
      "source": [
        "import datetime\n",
        "import sys\n",
        "\n",
        "import pandas\n",
        "import requests\n",
        "import upsetplot\n",
        "\n",
        "print(f\"\"\"\n",
        "Date: {datetime.date.today()}\n",
        "Python {sys.version}\n",
        "Libraries:\n",
        "- pandas {pandas.__version__}\n",
        "- requests {requests.__version__}\n",
        "- upsetplot {upsetplot.__version__}\n",
        "\"\"\")"
      ],
      "execution_count": 65,
      "outputs": [
        {
          "output_type": "stream",
          "text": [
            "\n",
            "Date: 2019-08-15\n",
            "Python 3.6.8 (default, Jan 14 2019, 11:02:34) \n",
            "[GCC 8.0.1 20180414 (experimental) [trunk revision 259383]]\n",
            "Libraries:\n",
            "- pandas 0.24.2\n",
            "- requests 2.21.0\n",
            "- upsetplot 0.3.0.post3\n",
            "\n"
          ],
          "name": "stdout"
        }
      ]
    }
  ]
}